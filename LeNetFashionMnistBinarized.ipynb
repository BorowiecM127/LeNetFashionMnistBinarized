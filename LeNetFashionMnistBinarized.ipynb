{
  "nbformat": 4,
  "nbformat_minor": 0,
  "metadata": {
    "colab": {
      "name": "LeNetFashionMnistBinarized.ipynb",
      "provenance": [],
      "collapsed_sections": [],
      "include_colab_link": true
    },
    "kernelspec": {
      "name": "python3",
      "display_name": "Python 3"
    },
    "language_info": {
      "name": "python"
    }
  },
  "cells": [
    {
      "cell_type": "markdown",
      "metadata": {
        "id": "view-in-github",
        "colab_type": "text"
      },
      "source": [
        "<a href=\"https://colab.research.google.com/github/Koperek127/LeNetFashionMnistBinarized/blob/main/LeNetFashionMnistBinarized.ipynb\" target=\"_parent\"><img src=\"https://colab.research.google.com/assets/colab-badge.svg\" alt=\"Open In Colab\"/></a>"
      ]
    },
    {
      "cell_type": "code",
      "metadata": {
        "id": "Lg2iP-CyPRwp",
        "colab": {
          "base_uri": "https://localhost:8080/"
        },
        "outputId": "06d670f8-c309-45da-c2e3-cee184da5ea7"
      },
      "source": [
        "!pip install larq\n",
        "\n",
        "from __future__ import absolute_import, division, print_function, unicode_literals\n",
        "import larq as lq\n",
        "import tensorflow as tf\n",
        "import tensorflow_datasets as tfds\n",
        "import matplotlib.pyplot as plt\n",
        "import numpy as np\n",
        "import math"
      ],
      "execution_count": null,
      "outputs": [
        {
          "output_type": "stream",
          "text": [
            "Requirement already satisfied: larq in /usr/local/lib/python3.7/dist-packages (0.12.0)\n",
            "Requirement already satisfied: terminaltables>=3.1.0 in /usr/local/lib/python3.7/dist-packages (from larq) (3.1.0)\n",
            "Requirement already satisfied: numpy<2.0,>=1.15.4 in /usr/local/lib/python3.7/dist-packages (from larq) (1.19.5)\n",
            "Requirement already satisfied: importlib-metadata<4.0,>=2.0; python_version < \"3.8\" in /usr/local/lib/python3.7/dist-packages (from larq) (3.10.1)\n",
            "Requirement already satisfied: typing-extensions>=3.6.4; python_version < \"3.8\" in /usr/local/lib/python3.7/dist-packages (from importlib-metadata<4.0,>=2.0; python_version < \"3.8\"->larq) (3.7.4.3)\n",
            "Requirement already satisfied: zipp>=0.5 in /usr/local/lib/python3.7/dist-packages (from importlib-metadata<4.0,>=2.0; python_version < \"3.8\"->larq) (3.4.1)\n"
          ],
          "name": "stdout"
        }
      ]
    },
    {
      "cell_type": "code",
      "metadata": {
        "id": "X0mEYVfOQIaX"
      },
      "source": [
        "(train_images, train_labels), (test_images, test_labels) = tf.keras.datasets.fashion_mnist.load_data()\n",
        "train_images = train_images.reshape((60000, 28, 28, 1))\n",
        "test_images = test_images.reshape((10000, 28, 28, 1))\n",
        "\n",
        "# Normalize pixel values to be between -1 and 1\n",
        "train_images, test_images = train_images / 127.5 - 1, test_images / 127.5 - 1"
      ],
      "execution_count": null,
      "outputs": []
    },
    {
      "cell_type": "code",
      "metadata": {
        "id": "WKgkj8I4p9zr"
      },
      "source": [
        "kwargs = dict(input_quantizer=\"ste_sign\",\n",
        "              kernel_quantizer=\"ste_sign\",\n",
        "              kernel_constraint=\"weight_clip\")\n"
      ],
      "execution_count": null,
      "outputs": []
    },
    {
      "cell_type": "code",
      "metadata": {
        "id": "UQ5eQpugQvFG",
        "colab": {
          "base_uri": "https://localhost:8080/"
        },
        "outputId": "f33ccb37-b2a8-4ba6-eb5a-84bb9c5fccf1"
      },
      "source": [
        "modelLenet = tf.keras.Sequential([\n",
        "    tf.keras.layers.Conv2D(6, (5,5), padding='same', activation=tf.nn.relu,\n",
        "                           input_shape=(28, 28, 1)),\n",
        "    tf.keras.layers.MaxPooling2D((2, 2), strides=2),\n",
        "    tf.keras.layers.Conv2D(16, (5,5), padding='same', activation=tf.nn.relu),\n",
        "    tf.keras.layers.MaxPooling2D((2, 2), strides=2),\n",
        "    tf.keras.layers.Flatten(),\n",
        "    tf.keras.layers.Dense(120, activation=tf.nn.relu),\n",
        "    tf.keras.layers.Dense(84, activation=tf.nn.relu),\n",
        "    tf.keras.layers.Dense(10, activation=tf.nn.softmax),\n",
        "])\n",
        "\n",
        "model = tf.keras.Sequential([\n",
        "    tf.keras.layers.Conv2D(6, (5,5), padding='same', activation=tf.nn.relu,\n",
        "                           input_shape=(28, 28, 1)),\n",
        "    tf.keras.layers.MaxPooling2D((2, 2), strides=2),\n",
        "    tf.keras.layers.Conv2D(16, (5,5), padding='same', activation=tf.nn.relu),\n",
        "    tf.keras.layers.MaxPooling2D((2, 2), strides=2),\n",
        "    tf.keras.layers.Flatten(),\n",
        "    tf.keras.layers.Dense(120, activation=tf.nn.relu),\n",
        "    tf.keras.layers.Dense(84, activation=tf.nn.relu),\n",
        "    #tf.keras.layers.Dense(10, activation=tf.nn.softmax),\n",
        "    tf.keras.layers.BatchNormalization(momentum=0.999, scale=False),\n",
        "    tf.keras.layers.Flatten(),\n",
        "    lq.layers.QuantDense(10, use_bias=False, **kwargs),\n",
        "    #tf.keras.layers.BatchNormalization(momentum=0.999, scale=False),\n",
        "    tf.keras.layers.Activation(\"softmax\")\n",
        "])\n",
        "\n",
        "lq.models.summary(modelLenet)\n",
        "lq.models.summary(model)"
      ],
      "execution_count": null,
      "outputs": [
        {
          "output_type": "stream",
          "text": [
            "+sequential stats---------------------------------------------------------------+\n",
            "| Layer            Input prec.           Outputs  # 32-bit  Memory  32-bit MACs |\n",
            "|                        (bit)                         x 1    (kB)              |\n",
            "+-------------------------------------------------------------------------------+\n",
            "| conv2d                     -   (-1, 28, 28, 6)       156    0.61       117600 |\n",
            "| max_pooling2d              -   (-1, 14, 14, 6)         0       0            0 |\n",
            "| conv2d_1                   -  (-1, 14, 14, 16)      2416    9.44       470400 |\n",
            "| max_pooling2d_1            -    (-1, 7, 7, 16)         0       0            0 |\n",
            "| flatten                    -         (-1, 784)         0       0            0 |\n",
            "| dense                      -         (-1, 120)     94200  367.97        94080 |\n",
            "| dense_1                    -          (-1, 84)     10164   39.70        10080 |\n",
            "| dense_2                    -          (-1, 10)       850    3.32          840 |\n",
            "+-------------------------------------------------------------------------------+\n",
            "| Total                                             107786  421.04       693000 |\n",
            "+-------------------------------------------------------------------------------+\n",
            "+sequential summary-------------------------+\n",
            "| Total params                   108 k      |\n",
            "| Trainable params               108 k      |\n",
            "| Non-trainable params           0          |\n",
            "| Model size                     421.04 KiB |\n",
            "| Model size (8-bit FP weights)  105.26 KiB |\n",
            "| Float-32 Equivalent            421.04 KiB |\n",
            "| Compression Ratio of Memory    1.00       |\n",
            "| Number of MACs                 693 k      |\n",
            "+-------------------------------------------+\n",
            "+sequential_1 stats--------------------------------------------------------------------------------------+\n",
            "| Layer                Input prec.           Outputs  # 1-bit  # 32-bit  Memory  1-bit MACs  32-bit MACs |\n",
            "|                            (bit)                        x 1       x 1    (kB)                          |\n",
            "+--------------------------------------------------------------------------------------------------------+\n",
            "| conv2d_2                       -   (-1, 28, 28, 6)        0       156    0.61           0       117600 |\n",
            "| max_pooling2d_2                -   (-1, 14, 14, 6)        0         0       0           0            0 |\n",
            "| conv2d_3                       -  (-1, 14, 14, 16)        0      2416    9.44           0       470400 |\n",
            "| max_pooling2d_3                -    (-1, 7, 7, 16)        0         0       0           0            0 |\n",
            "| flatten_1                      -         (-1, 784)        0         0       0           0            0 |\n",
            "| dense_3                        -         (-1, 120)        0     94200  367.97           0        94080 |\n",
            "| dense_4                        -          (-1, 84)        0     10164   39.70           0        10080 |\n",
            "| batch_normalization            -          (-1, 84)        0       168    0.66           0            0 |\n",
            "| flatten_2                      -          (-1, 84)        0         0       0           0            0 |\n",
            "| quant_dense                    1          (-1, 10)      840         0    0.10         840            0 |\n",
            "| activation                     -          (-1, 10)        0         0       0           ?            ? |\n",
            "+--------------------------------------------------------------------------------------------------------+\n",
            "| Total                                                   840    107104  418.48         840       692160 |\n",
            "+--------------------------------------------------------------------------------------------------------+\n",
            "+sequential_1 summary--------------------------+\n",
            "| Total params                      108 k      |\n",
            "| Trainable params                  108 k      |\n",
            "| Non-trainable params              168        |\n",
            "| Model size                        418.48 KiB |\n",
            "| Model size (8-bit FP weights)     104.70 KiB |\n",
            "| Float-32 Equivalent               421.66 KiB |\n",
            "| Compression Ratio of Memory       0.99       |\n",
            "| Number of MACs                    693 k      |\n",
            "| Ratio of MACs that are binarized  0.0012     |\n",
            "+----------------------------------------------+\n"
          ],
          "name": "stdout"
        }
      ]
    },
    {
      "cell_type": "code",
      "metadata": {
        "id": "QekphZoiQz5C",
        "colab": {
          "base_uri": "https://localhost:8080/"
        },
        "outputId": "cfcdb0ce-6c19-4827-ae9b-78f4dfa99558"
      },
      "source": [
        "modelLenet.compile(optimizer='adam',\n",
        "              loss='sparse_categorical_crossentropy',\n",
        "              metrics=['accuracy'])\n",
        "\n",
        "trained_Lmodel = modelLenet.fit(train_images, train_labels, batch_size=64, epochs=10)\n",
        "\n",
        "test_lossL, test_accL = modelLenet.evaluate(test_images, test_labels)"
      ],
      "execution_count": null,
      "outputs": [
        {
          "output_type": "stream",
          "text": [
            "Epoch 1/10\n",
            "938/938 [==============================] - 37s 39ms/step - loss: 0.6781 - accuracy: 0.7632\n",
            "Epoch 2/10\n",
            "938/938 [==============================] - 36s 38ms/step - loss: 0.3333 - accuracy: 0.8773\n",
            "Epoch 3/10\n",
            "938/938 [==============================] - 35s 37ms/step - loss: 0.2779 - accuracy: 0.8975\n",
            "Epoch 4/10\n",
            "938/938 [==============================] - 35s 38ms/step - loss: 0.2417 - accuracy: 0.9102\n",
            "Epoch 5/10\n",
            "938/938 [==============================] - 35s 37ms/step - loss: 0.2158 - accuracy: 0.9206\n",
            "Epoch 6/10\n",
            "938/938 [==============================] - 35s 38ms/step - loss: 0.2014 - accuracy: 0.9248\n",
            "Epoch 7/10\n",
            "938/938 [==============================] - 36s 39ms/step - loss: 0.1829 - accuracy: 0.9308\n",
            "Epoch 8/10\n",
            "938/938 [==============================] - 36s 38ms/step - loss: 0.1734 - accuracy: 0.9354\n",
            "Epoch 9/10\n",
            "938/938 [==============================] - 35s 38ms/step - loss: 0.1534 - accuracy: 0.9421\n",
            "Epoch 10/10\n",
            "938/938 [==============================] - 36s 38ms/step - loss: 0.1437 - accuracy: 0.9454\n",
            "313/313 [==============================] - 3s 9ms/step - loss: 0.2694 - accuracy: 0.9086\n"
          ],
          "name": "stdout"
        }
      ]
    },
    {
      "cell_type": "code",
      "metadata": {
        "colab": {
          "base_uri": "https://localhost:8080/"
        },
        "id": "BHmGqxZAszBt",
        "outputId": "d8bd5387-0cac-480d-d774-fccd46e86293"
      },
      "source": [
        "model.compile(optimizer='adam',\n",
        "              loss='sparse_categorical_crossentropy',\n",
        "              metrics=['accuracy'])\n",
        "trained_model = model.fit(train_images, train_labels, batch_size=64, epochs=10)\n",
        "\n",
        "test_loss, test_acc = model.evaluate(test_images, test_labels)"
      ],
      "execution_count": null,
      "outputs": [
        {
          "output_type": "stream",
          "text": [
            "Epoch 1/10\n",
            "938/938 [==============================] - 37s 38ms/step - loss: 2.9189 - accuracy: 0.6781\n",
            "Epoch 2/10\n",
            "938/938 [==============================] - 36s 39ms/step - loss: 1.2721 - accuracy: 0.8170\n",
            "Epoch 3/10\n",
            "938/938 [==============================] - 36s 38ms/step - loss: 1.0697 - accuracy: 0.8336\n",
            "Epoch 4/10\n",
            "938/938 [==============================] - 36s 39ms/step - loss: 1.1249 - accuracy: 0.8345\n",
            "Epoch 5/10\n",
            "938/938 [==============================] - 36s 39ms/step - loss: 1.0389 - accuracy: 0.8482\n",
            "Epoch 6/10\n",
            "938/938 [==============================] - 37s 39ms/step - loss: 1.0570 - accuracy: 0.8469\n",
            "Epoch 7/10\n",
            "938/938 [==============================] - 36s 39ms/step - loss: 0.9862 - accuracy: 0.8551\n",
            "Epoch 8/10\n",
            "938/938 [==============================] - 37s 39ms/step - loss: 0.9443 - accuracy: 0.8612\n",
            "Epoch 9/10\n",
            "938/938 [==============================] - 36s 39ms/step - loss: 0.9063 - accuracy: 0.8676\n",
            "Epoch 10/10\n",
            "938/938 [==============================] - 36s 38ms/step - loss: 0.9379 - accuracy: 0.8667\n",
            "313/313 [==============================] - 3s 10ms/step - loss: 1.0512 - accuracy: 0.8654\n"
          ],
          "name": "stdout"
        }
      ]
    },
    {
      "cell_type": "code",
      "metadata": {
        "colab": {
          "base_uri": "https://localhost:8080/"
        },
        "id": "n_fYSG5v7iEv",
        "outputId": "6cc3d8b5-62e5-4d03-881d-a7272f091581"
      },
      "source": [
        "model2 = tf.keras.Sequential([\n",
        "    tf.keras.layers.Conv2D(6, (5,5), padding='same', activation=tf.nn.relu,\n",
        "                           input_shape=(28, 28, 1)),\n",
        "    tf.keras.layers.MaxPooling2D((2, 2), strides=2),\n",
        "    tf.keras.layers.Conv2D(16, (5,5), padding='same', activation=tf.nn.relu),\n",
        "    tf.keras.layers.MaxPooling2D((2, 2), strides=2),\n",
        "    tf.keras.layers.Flatten(),\n",
        "    tf.keras.layers.Dense(120, activation=tf.nn.relu),\n",
        "    tf.keras.layers.Dense(84, activation=tf.nn.relu),\n",
        "    #tf.keras.layers.Dense(10, activation=tf.nn.softmax),\n",
        "    tf.keras.layers.BatchNormalization(momentum=0.999, scale=False),\n",
        "    tf.keras.layers.Flatten(),\n",
        "    lq.layers.QuantDense(20, use_bias=False, **kwargs),\n",
        "    #tf.keras.layers.BatchNormalization(momentum=0.999, scale=False),\n",
        "    tf.keras.layers.Activation(\"softmax\")\n",
        "])\n",
        "\n",
        "lq.models.summary(model2)\n",
        "\n",
        "model2.compile(optimizer='adam',\n",
        "              loss='sparse_categorical_crossentropy',\n",
        "              metrics=['accuracy'])\n",
        "trained_model2 = model2.fit(train_images, train_labels, batch_size=64, epochs=10)\n",
        "\n",
        "test_loss2, test_acc2 = model2.evaluate(test_images, test_labels)"
      ],
      "execution_count": null,
      "outputs": [
        {
          "output_type": "stream",
          "text": [
            "+sequential_2 stats----------------------------------------------------------------------------------------+\n",
            "| Layer                  Input prec.           Outputs  # 1-bit  # 32-bit  Memory  1-bit MACs  32-bit MACs |\n",
            "|                              (bit)                        x 1       x 1    (kB)                          |\n",
            "+----------------------------------------------------------------------------------------------------------+\n",
            "| conv2d_4                         -   (-1, 28, 28, 6)        0       156    0.61           0       117600 |\n",
            "| max_pooling2d_4                  -   (-1, 14, 14, 6)        0         0       0           0            0 |\n",
            "| conv2d_5                         -  (-1, 14, 14, 16)        0      2416    9.44           0       470400 |\n",
            "| max_pooling2d_5                  -    (-1, 7, 7, 16)        0         0       0           0            0 |\n",
            "| flatten_3                        -         (-1, 784)        0         0       0           0            0 |\n",
            "| dense_5                          -         (-1, 120)        0     94200  367.97           0        94080 |\n",
            "| dense_6                          -          (-1, 84)        0     10164   39.70           0        10080 |\n",
            "| batch_normalization_1            -          (-1, 84)        0       168    0.66           0            0 |\n",
            "| flatten_4                        -          (-1, 84)        0         0       0           0            0 |\n",
            "| quant_dense_1                    1          (-1, 20)     1680         0    0.21        1680            0 |\n",
            "| activation_1                     -          (-1, 20)        0         0       0           ?            ? |\n",
            "+----------------------------------------------------------------------------------------------------------+\n",
            "| Total                                                    1680    107104  418.58        1680       692160 |\n",
            "+----------------------------------------------------------------------------------------------------------+\n",
            "+sequential_2 summary--------------------------+\n",
            "| Total params                      109 k      |\n",
            "| Trainable params                  109 k      |\n",
            "| Non-trainable params              168        |\n",
            "| Model size                        418.58 KiB |\n",
            "| Model size (8-bit FP weights)     104.80 KiB |\n",
            "| Float-32 Equivalent               424.94 KiB |\n",
            "| Compression Ratio of Memory       0.99       |\n",
            "| Number of MACs                    694 k      |\n",
            "| Ratio of MACs that are binarized  0.0024     |\n",
            "+----------------------------------------------+\n",
            "Epoch 1/10\n",
            "938/938 [==============================] - 36s 37ms/step - loss: 2.9139 - accuracy: 0.6713\n",
            "Epoch 2/10\n",
            "938/938 [==============================] - 35s 37ms/step - loss: 1.2355 - accuracy: 0.8174\n",
            "Epoch 3/10\n",
            "938/938 [==============================] - 35s 37ms/step - loss: 1.0920 - accuracy: 0.8327\n",
            "Epoch 4/10\n",
            "938/938 [==============================] - 35s 37ms/step - loss: 1.0425 - accuracy: 0.8389\n",
            "Epoch 5/10\n",
            "938/938 [==============================] - 35s 37ms/step - loss: 1.0463 - accuracy: 0.8447\n",
            "Epoch 6/10\n",
            "938/938 [==============================] - 35s 37ms/step - loss: 1.0045 - accuracy: 0.8531\n",
            "Epoch 7/10\n",
            "938/938 [==============================] - 35s 37ms/step - loss: 0.9673 - accuracy: 0.8540\n",
            "Epoch 8/10\n",
            "938/938 [==============================] - 35s 37ms/step - loss: 0.9192 - accuracy: 0.8618\n",
            "Epoch 9/10\n",
            "938/938 [==============================] - 35s 37ms/step - loss: 0.8525 - accuracy: 0.8739\n",
            "Epoch 10/10\n",
            "938/938 [==============================] - 35s 37ms/step - loss: 0.8496 - accuracy: 0.8734\n",
            "313/313 [==============================] - 3s 9ms/step - loss: 1.1568 - accuracy: 0.8093\n"
          ],
          "name": "stdout"
        }
      ]
    },
    {
      "cell_type": "code",
      "metadata": {
        "colab": {
          "base_uri": "https://localhost:8080/"
        },
        "id": "jmTOoaCO-Z-1",
        "outputId": "27606126-8a98-45fa-c401-855a857ac431"
      },
      "source": [
        "model3 = tf.keras.Sequential([\n",
        "    tf.keras.layers.Conv2D(6, (5,5), padding='same', activation=tf.nn.relu,\n",
        "                           input_shape=(28, 28, 1)),\n",
        "    tf.keras.layers.MaxPooling2D((2, 2), strides=2),\n",
        "    tf.keras.layers.Conv2D(16, (5,5), padding='same', activation=tf.nn.relu),\n",
        "    tf.keras.layers.MaxPooling2D((2, 2), strides=2),\n",
        "    tf.keras.layers.Flatten(),\n",
        "    tf.keras.layers.Dense(120, activation=tf.nn.relu),\n",
        "    tf.keras.layers.Dense(84, activation=tf.nn.relu),\n",
        "    #tf.keras.layers.Dense(10, activation=tf.nn.softmax),\n",
        "    tf.keras.layers.BatchNormalization(momentum=0.999, scale=False),\n",
        "    tf.keras.layers.Flatten(),\n",
        "    lq.layers.QuantDense(40, use_bias=False, **kwargs),\n",
        "    #tf.keras.layers.BatchNormalization(momentum=0.999, scale=False),\n",
        "    tf.keras.layers.Activation(\"softmax\")\n",
        "])\n",
        "\n",
        "lq.models.summary(model3)\n",
        "\n",
        "model3.compile(optimizer='adam',\n",
        "              loss='sparse_categorical_crossentropy',\n",
        "              metrics=['accuracy'])\n",
        "trained_model3 = model3.fit(train_images, train_labels, batch_size=64, epochs=10)\n",
        "\n",
        "test_loss3, test_acc3 = model3.evaluate(test_images, test_labels)"
      ],
      "execution_count": null,
      "outputs": [
        {
          "output_type": "stream",
          "text": [
            "+sequential_4 stats----------------------------------------------------------------------------------------+\n",
            "| Layer                  Input prec.           Outputs  # 1-bit  # 32-bit  Memory  1-bit MACs  32-bit MACs |\n",
            "|                              (bit)                        x 1       x 1    (kB)                          |\n",
            "+----------------------------------------------------------------------------------------------------------+\n",
            "| conv2d_8                         -   (-1, 28, 28, 6)        0       156    0.61           0       117600 |\n",
            "| max_pooling2d_8                  -   (-1, 14, 14, 6)        0         0       0           0            0 |\n",
            "| conv2d_9                         -  (-1, 14, 14, 16)        0      2416    9.44           0       470400 |\n",
            "| max_pooling2d_9                  -    (-1, 7, 7, 16)        0         0       0           0            0 |\n",
            "| flatten_7                        -         (-1, 784)        0         0       0           0            0 |\n",
            "| dense_9                          -         (-1, 120)        0     94200  367.97           0        94080 |\n",
            "| dense_10                         -          (-1, 84)        0     10164   39.70           0        10080 |\n",
            "| batch_normalization_3            -          (-1, 84)        0       168    0.66           0            0 |\n",
            "| flatten_8                        -          (-1, 84)        0         0       0           0            0 |\n",
            "| quant_dense_3                    1          (-1, 40)     3360         0    0.41        3360            0 |\n",
            "| activation_3                     -          (-1, 40)        0         0       0           ?            ? |\n",
            "+----------------------------------------------------------------------------------------------------------+\n",
            "| Total                                                    3360    107104  418.79        3360       692160 |\n",
            "+----------------------------------------------------------------------------------------------------------+\n",
            "+sequential_4 summary--------------------------+\n",
            "| Total params                      110 k      |\n",
            "| Trainable params                  110 k      |\n",
            "| Non-trainable params              168        |\n",
            "| Model size                        418.79 KiB |\n",
            "| Model size (8-bit FP weights)     105.00 KiB |\n",
            "| Float-32 Equivalent               431.50 KiB |\n",
            "| Compression Ratio of Memory       0.97       |\n",
            "| Number of MACs                    696 k      |\n",
            "| Ratio of MACs that are binarized  0.0048     |\n",
            "+----------------------------------------------+\n",
            "Epoch 1/10\n",
            "938/938 [==============================] - 36s 38ms/step - loss: 2.3896 - accuracy: 0.6891\n",
            "Epoch 2/10\n",
            "938/938 [==============================] - 37s 39ms/step - loss: 1.1084 - accuracy: 0.8174\n",
            "Epoch 3/10\n",
            "938/938 [==============================] - 36s 39ms/step - loss: 1.1098 - accuracy: 0.8265\n",
            "Epoch 4/10\n",
            "938/938 [==============================] - 36s 38ms/step - loss: 1.0032 - accuracy: 0.8394\n",
            "Epoch 5/10\n",
            "938/938 [==============================] - 36s 38ms/step - loss: 0.9703 - accuracy: 0.8451\n",
            "Epoch 6/10\n",
            "938/938 [==============================] - 36s 38ms/step - loss: 0.9439 - accuracy: 0.8481\n",
            "Epoch 7/10\n",
            "938/938 [==============================] - 36s 38ms/step - loss: 0.9460 - accuracy: 0.8478\n",
            "Epoch 8/10\n",
            "938/938 [==============================] - 36s 38ms/step - loss: 0.8936 - accuracy: 0.8596\n",
            "Epoch 9/10\n",
            "938/938 [==============================] - 36s 39ms/step - loss: 0.8615 - accuracy: 0.8658\n",
            "Epoch 10/10\n",
            "938/938 [==============================] - 37s 39ms/step - loss: 0.8505 - accuracy: 0.8683\n",
            "313/313 [==============================] - 3s 9ms/step - loss: 1.0604 - accuracy: 0.8456\n"
          ],
          "name": "stdout"
        }
      ]
    },
    {
      "cell_type": "code",
      "metadata": {
        "colab": {
          "base_uri": "https://localhost:8080/"
        },
        "id": "U6mm8VzBB_Hc",
        "outputId": "7479ed62-d2a3-4bc1-e2fc-ded028475430"
      },
      "source": [
        "model4 = tf.keras.Sequential([\n",
        "    tf.keras.layers.Conv2D(6, (5,5), padding='same', activation=tf.nn.relu,\n",
        "                           input_shape=(28, 28, 1)),\n",
        "    tf.keras.layers.MaxPooling2D((2, 2), strides=2),\n",
        "    tf.keras.layers.Conv2D(16, (5,5), padding='same', activation=tf.nn.relu),\n",
        "    tf.keras.layers.MaxPooling2D((2, 2), strides=2),\n",
        "    tf.keras.layers.Flatten(),\n",
        "    tf.keras.layers.Dense(120, activation=tf.nn.relu),\n",
        "    tf.keras.layers.Dense(84, activation=tf.nn.relu),\n",
        "    #tf.keras.layers.Dense(10, activation=tf.nn.softmax),\n",
        "    tf.keras.layers.BatchNormalization(momentum=0.999, scale=False),\n",
        "    tf.keras.layers.Flatten(),\n",
        "    lq.layers.QuantDense(80, use_bias=False, **kwargs),\n",
        "    #tf.keras.layers.BatchNormalization(momentum=0.999, scale=False),\n",
        "    tf.keras.layers.Activation(\"softmax\")\n",
        "])\n",
        "\n",
        "lq.models.summary(model4)\n",
        "\n",
        "model4.compile(optimizer='adam',\n",
        "              loss='sparse_categorical_crossentropy',\n",
        "              metrics=['accuracy'])\n",
        "trained_model4 = model4.fit(train_images, train_labels, batch_size=64, epochs=10)\n",
        "\n",
        "test_loss4, test_acc4 = model4.evaluate(test_images, test_labels)"
      ],
      "execution_count": null,
      "outputs": [
        {
          "output_type": "stream",
          "text": [
            "+sequential_5 stats----------------------------------------------------------------------------------------+\n",
            "| Layer                  Input prec.           Outputs  # 1-bit  # 32-bit  Memory  1-bit MACs  32-bit MACs |\n",
            "|                              (bit)                        x 1       x 1    (kB)                          |\n",
            "+----------------------------------------------------------------------------------------------------------+\n",
            "| conv2d_10                        -   (-1, 28, 28, 6)        0       156    0.61           0       117600 |\n",
            "| max_pooling2d_10                 -   (-1, 14, 14, 6)        0         0       0           0            0 |\n",
            "| conv2d_11                        -  (-1, 14, 14, 16)        0      2416    9.44           0       470400 |\n",
            "| max_pooling2d_11                 -    (-1, 7, 7, 16)        0         0       0           0            0 |\n",
            "| flatten_9                        -         (-1, 784)        0         0       0           0            0 |\n",
            "| dense_11                         -         (-1, 120)        0     94200  367.97           0        94080 |\n",
            "| dense_12                         -          (-1, 84)        0     10164   39.70           0        10080 |\n",
            "| batch_normalization_4            -          (-1, 84)        0       168    0.66           0            0 |\n",
            "| flatten_10                       -          (-1, 84)        0         0       0           0            0 |\n",
            "| quant_dense_4                    1          (-1, 80)     6720         0    0.82        6720            0 |\n",
            "| activation_4                     -          (-1, 80)        0         0       0           ?            ? |\n",
            "+----------------------------------------------------------------------------------------------------------+\n",
            "| Total                                                    6720    107104  419.20        6720       692160 |\n",
            "+----------------------------------------------------------------------------------------------------------+\n",
            "+sequential_5 summary--------------------------+\n",
            "| Total params                      114 k      |\n",
            "| Trainable params                  114 k      |\n",
            "| Non-trainable params              168        |\n",
            "| Model size                        419.20 KiB |\n",
            "| Model size (8-bit FP weights)     105.41 KiB |\n",
            "| Float-32 Equivalent               444.62 KiB |\n",
            "| Compression Ratio of Memory       0.94       |\n",
            "| Number of MACs                    699 k      |\n",
            "| Ratio of MACs that are binarized  0.0096     |\n",
            "+----------------------------------------------+\n",
            "Epoch 1/10\n",
            "938/938 [==============================] - 35s 37ms/step - loss: 2.5009 - accuracy: 0.6933\n",
            "Epoch 2/10\n",
            "938/938 [==============================] - 36s 38ms/step - loss: 1.1604 - accuracy: 0.8152\n",
            "Epoch 3/10\n",
            "938/938 [==============================] - 36s 38ms/step - loss: 1.1593 - accuracy: 0.8213\n",
            "Epoch 4/10\n",
            "938/938 [==============================] - 35s 38ms/step - loss: 1.0848 - accuracy: 0.8348\n",
            "Epoch 5/10\n",
            "938/938 [==============================] - 36s 38ms/step - loss: 1.0733 - accuracy: 0.8391\n",
            "Epoch 6/10\n",
            "938/938 [==============================] - 35s 38ms/step - loss: 1.0771 - accuracy: 0.8443\n",
            "Epoch 7/10\n",
            "938/938 [==============================] - 35s 38ms/step - loss: 1.0141 - accuracy: 0.8509\n",
            "Epoch 8/10\n",
            "938/938 [==============================] - 35s 38ms/step - loss: 0.9961 - accuracy: 0.8556\n",
            "Epoch 9/10\n",
            "938/938 [==============================] - 35s 37ms/step - loss: 1.0316 - accuracy: 0.8569\n",
            "Epoch 10/10\n",
            "938/938 [==============================] - 35s 37ms/step - loss: 0.9278 - accuracy: 0.8631\n",
            "313/313 [==============================] - 3s 10ms/step - loss: 1.0710 - accuracy: 0.8231\n"
          ],
          "name": "stdout"
        }
      ]
    },
    {
      "cell_type": "code",
      "metadata": {
        "colab": {
          "base_uri": "https://localhost:8080/"
        },
        "id": "Tea6SWPZGVkS",
        "outputId": "dcc21108-da85-4083-a3ce-6948e98109aa"
      },
      "source": [
        "model5 = tf.keras.Sequential([\n",
        "    tf.keras.layers.Conv2D(6, (5,5), padding='same', activation=tf.nn.relu,\n",
        "                           input_shape=(28, 28, 1)),\n",
        "    tf.keras.layers.MaxPooling2D((2, 2), strides=2),\n",
        "    tf.keras.layers.Conv2D(16, (5,5), padding='same', activation=tf.nn.relu),\n",
        "    tf.keras.layers.MaxPooling2D((2, 2), strides=2),\n",
        "    tf.keras.layers.Flatten(),\n",
        "    tf.keras.layers.Dense(120, activation=tf.nn.relu),\n",
        "    tf.keras.layers.Dense(84, activation=tf.nn.relu),\n",
        "    #tf.keras.layers.Dense(10, activation=tf.nn.softmax),\n",
        "    tf.keras.layers.BatchNormalization(momentum=0.999, scale=False),\n",
        "    tf.keras.layers.Flatten(),\n",
        "    lq.layers.QuantDense(10, use_bias=False, **kwargs),\n",
        "    #tf.keras.layers.BatchNormalization(momentum=0.999, scale=False),\n",
        "    tf.keras.layers.Activation(\"softmax\")\n",
        "])\n",
        "\n",
        "lq.models.summary(model5)\n",
        "\n",
        "model5.compile(optimizer='adam',\n",
        "              loss='sparse_categorical_crossentropy',\n",
        "              metrics=['accuracy'])\n",
        "trained_model5 = model5.fit(train_images, train_labels, batch_size=16, epochs=10)\n",
        "\n",
        "test_loss5, test_acc5 = model5.evaluate(test_images, test_labels)"
      ],
      "execution_count": null,
      "outputs": [
        {
          "output_type": "stream",
          "text": [
            "+sequential_6 stats----------------------------------------------------------------------------------------+\n",
            "| Layer                  Input prec.           Outputs  # 1-bit  # 32-bit  Memory  1-bit MACs  32-bit MACs |\n",
            "|                              (bit)                        x 1       x 1    (kB)                          |\n",
            "+----------------------------------------------------------------------------------------------------------+\n",
            "| conv2d_12                        -   (-1, 28, 28, 6)        0       156    0.61           0       117600 |\n",
            "| max_pooling2d_12                 -   (-1, 14, 14, 6)        0         0       0           0            0 |\n",
            "| conv2d_13                        -  (-1, 14, 14, 16)        0      2416    9.44           0       470400 |\n",
            "| max_pooling2d_13                 -    (-1, 7, 7, 16)        0         0       0           0            0 |\n",
            "| flatten_11                       -         (-1, 784)        0         0       0           0            0 |\n",
            "| dense_13                         -         (-1, 120)        0     94200  367.97           0        94080 |\n",
            "| dense_14                         -          (-1, 84)        0     10164   39.70           0        10080 |\n",
            "| batch_normalization_5            -          (-1, 84)        0       168    0.66           0            0 |\n",
            "| flatten_12                       -          (-1, 84)        0         0       0           0            0 |\n",
            "| quant_dense_5                    1          (-1, 10)      840         0    0.10         840            0 |\n",
            "| activation_5                     -          (-1, 10)        0         0       0           ?            ? |\n",
            "+----------------------------------------------------------------------------------------------------------+\n",
            "| Total                                                     840    107104  418.48         840       692160 |\n",
            "+----------------------------------------------------------------------------------------------------------+\n",
            "+sequential_6 summary--------------------------+\n",
            "| Total params                      108 k      |\n",
            "| Trainable params                  108 k      |\n",
            "| Non-trainable params              168        |\n",
            "| Model size                        418.48 KiB |\n",
            "| Model size (8-bit FP weights)     104.70 KiB |\n",
            "| Float-32 Equivalent               421.66 KiB |\n",
            "| Compression Ratio of Memory       0.99       |\n",
            "| Number of MACs                    693 k      |\n",
            "| Ratio of MACs that are binarized  0.0012     |\n",
            "+----------------------------------------------+\n",
            "Epoch 1/10\n",
            "3750/3750 [==============================] - 48s 13ms/step - loss: 2.6219 - accuracy: 0.6946\n",
            "Epoch 2/10\n",
            "3750/3750 [==============================] - 47s 13ms/step - loss: 1.4113 - accuracy: 0.8056\n",
            "Epoch 3/10\n",
            "3750/3750 [==============================] - 47s 13ms/step - loss: 1.1798 - accuracy: 0.8295\n",
            "Epoch 4/10\n",
            "3750/3750 [==============================] - 48s 13ms/step - loss: 1.1295 - accuracy: 0.8386\n",
            "Epoch 5/10\n",
            "3750/3750 [==============================] - 48s 13ms/step - loss: 1.0714 - accuracy: 0.8482\n",
            "Epoch 6/10\n",
            "3750/3750 [==============================] - 47s 12ms/step - loss: 1.0195 - accuracy: 0.8546\n",
            "Epoch 7/10\n",
            "3750/3750 [==============================] - 47s 13ms/step - loss: 0.9729 - accuracy: 0.8617\n",
            "Epoch 8/10\n",
            "3750/3750 [==============================] - 47s 12ms/step - loss: 0.9471 - accuracy: 0.8647\n",
            "Epoch 9/10\n",
            "3750/3750 [==============================] - 47s 13ms/step - loss: 0.8750 - accuracy: 0.8742\n",
            "Epoch 10/10\n",
            "3750/3750 [==============================] - 47s 12ms/step - loss: 0.8438 - accuracy: 0.8753\n",
            "313/313 [==============================] - 3s 9ms/step - loss: 1.1137 - accuracy: 0.8769\n"
          ],
          "name": "stdout"
        }
      ]
    },
    {
      "cell_type": "code",
      "metadata": {
        "colab": {
          "base_uri": "https://localhost:8080/"
        },
        "id": "-H310xjtI8Jb",
        "outputId": "3717a4c3-e3ae-40f1-da14-2b57f5637482"
      },
      "source": [
        "model6 = tf.keras.Sequential([\n",
        "    tf.keras.layers.Conv2D(6, (5,5), padding='same', activation=tf.nn.relu,\n",
        "                           input_shape=(28, 28, 1)),\n",
        "    tf.keras.layers.MaxPooling2D((2, 2), strides=2),\n",
        "    tf.keras.layers.Conv2D(16, (5,5), padding='same', activation=tf.nn.relu),\n",
        "    tf.keras.layers.MaxPooling2D((2, 2), strides=2),\n",
        "    tf.keras.layers.Flatten(),\n",
        "    tf.keras.layers.Dense(120, activation=tf.nn.relu),\n",
        "    tf.keras.layers.Dense(84, activation=tf.nn.relu),\n",
        "    #tf.keras.layers.Dense(10, activation=tf.nn.softmax),\n",
        "    tf.keras.layers.BatchNormalization(momentum=0.999, scale=False),\n",
        "    tf.keras.layers.Flatten(),\n",
        "    lq.layers.QuantDense(10, use_bias=False, **kwargs),\n",
        "    #tf.keras.layers.BatchNormalization(momentum=0.999, scale=False),\n",
        "    tf.keras.layers.Activation(\"softmax\")\n",
        "])\n",
        "\n",
        "lq.models.summary(model6)\n",
        "\n",
        "model6.compile(optimizer='adam',\n",
        "              loss='sparse_categorical_crossentropy',\n",
        "              metrics=['accuracy'])\n",
        "trained_model6 = model6.fit(train_images, train_labels, batch_size=8, epochs=10)\n",
        "\n",
        "test_loss6, test_acc6 = model6.evaluate(test_images, test_labels)"
      ],
      "execution_count": null,
      "outputs": [
        {
          "output_type": "stream",
          "text": [
            "+sequential_7 stats----------------------------------------------------------------------------------------+\n",
            "| Layer                  Input prec.           Outputs  # 1-bit  # 32-bit  Memory  1-bit MACs  32-bit MACs |\n",
            "|                              (bit)                        x 1       x 1    (kB)                          |\n",
            "+----------------------------------------------------------------------------------------------------------+\n",
            "| conv2d_14                        -   (-1, 28, 28, 6)        0       156    0.61           0       117600 |\n",
            "| max_pooling2d_14                 -   (-1, 14, 14, 6)        0         0       0           0            0 |\n",
            "| conv2d_15                        -  (-1, 14, 14, 16)        0      2416    9.44           0       470400 |\n",
            "| max_pooling2d_15                 -    (-1, 7, 7, 16)        0         0       0           0            0 |\n",
            "| flatten_13                       -         (-1, 784)        0         0       0           0            0 |\n",
            "| dense_15                         -         (-1, 120)        0     94200  367.97           0        94080 |\n",
            "| dense_16                         -          (-1, 84)        0     10164   39.70           0        10080 |\n",
            "| batch_normalization_6            -          (-1, 84)        0       168    0.66           0            0 |\n",
            "| flatten_14                       -          (-1, 84)        0         0       0           0            0 |\n",
            "| quant_dense_6                    1          (-1, 10)      840         0    0.10         840            0 |\n",
            "| activation_6                     -          (-1, 10)        0         0       0           ?            ? |\n",
            "+----------------------------------------------------------------------------------------------------------+\n",
            "| Total                                                     840    107104  418.48         840       692160 |\n",
            "+----------------------------------------------------------------------------------------------------------+\n",
            "+sequential_7 summary--------------------------+\n",
            "| Total params                      108 k      |\n",
            "| Trainable params                  108 k      |\n",
            "| Non-trainable params              168        |\n",
            "| Model size                        418.48 KiB |\n",
            "| Model size (8-bit FP weights)     104.70 KiB |\n",
            "| Float-32 Equivalent               421.66 KiB |\n",
            "| Compression Ratio of Memory       0.99       |\n",
            "| Number of MACs                    693 k      |\n",
            "| Ratio of MACs that are binarized  0.0012     |\n",
            "+----------------------------------------------+\n",
            "Epoch 1/10\n",
            "7500/7500 [==============================] - 64s 8ms/step - loss: 2.8206 - accuracy: 0.6707\n",
            "Epoch 2/10\n",
            "7500/7500 [==============================] - 62s 8ms/step - loss: 1.5445 - accuracy: 0.7831\n",
            "Epoch 3/10\n",
            "7500/7500 [==============================] - 62s 8ms/step - loss: 1.3066 - accuracy: 0.8143\n",
            "Epoch 4/10\n",
            "7500/7500 [==============================] - 62s 8ms/step - loss: 1.2293 - accuracy: 0.8322\n",
            "Epoch 5/10\n",
            "7500/7500 [==============================] - 63s 8ms/step - loss: 1.1573 - accuracy: 0.8431\n",
            "Epoch 6/10\n",
            "7500/7500 [==============================] - 65s 9ms/step - loss: 1.0991 - accuracy: 0.8543\n",
            "Epoch 7/10\n",
            "7500/7500 [==============================] - 63s 8ms/step - loss: 1.0647 - accuracy: 0.8602\n",
            "Epoch 8/10\n",
            "7500/7500 [==============================] - 65s 9ms/step - loss: 1.0339 - accuracy: 0.8638\n",
            "Epoch 9/10\n",
            "7500/7500 [==============================] - 63s 8ms/step - loss: 0.9875 - accuracy: 0.8663\n",
            "Epoch 10/10\n",
            "7500/7500 [==============================] - 63s 8ms/step - loss: 0.9810 - accuracy: 0.8673\n",
            "313/313 [==============================] - 3s 9ms/step - loss: 2.2108 - accuracy: 0.7303\n"
          ],
          "name": "stdout"
        }
      ]
    },
    {
      "cell_type": "code",
      "metadata": {
        "colab": {
          "base_uri": "https://localhost:8080/",
          "height": 295
        },
        "id": "P25doLHhXAVR",
        "outputId": "e8f9d856-3456-40d2-b6c7-6e6c1845801c"
      },
      "source": [
        "# summarize history for accuracy\n",
        "plt.plot(trained_model.history['accuracy'])\n",
        "plt.plot(trained_Lmodel.history['accuracy'])\n",
        "plt.plot(trained_model2.history['accuracy'])\n",
        "plt.plot(trained_model3.history['accuracy'])\n",
        "plt.plot(trained_model4.history['accuracy'])\n",
        "plt.plot(trained_model5.history['accuracy'])\n",
        "plt.plot(trained_model6.history['accuracy'])\n",
        "plt.title('model accuracy')\n",
        "plt.ylabel('accuracy')\n",
        "plt.xlabel('epoch')\n",
        "plt.legend(['LEnetBinarizedLayer(10)', 'Lenet','LEnetBinarizedLayer(20)','LEnetBinarizedLayer(40)','LEnetBinarizedLayer(80)'], loc='upper left')\n",
        "plt.show()"
      ],
      "execution_count": null,
      "outputs": [
        {
          "output_type": "display_data",
          "data": {
            "image/png": "[encoded data removed]",
            "text/plain": [
              "<Figure size 432x288 with 1 Axes>"
            ]
          },
          "metadata": {
            "tags": [],
            "needs_background": "light"
          }
        }
      ]
    }
  ]
}