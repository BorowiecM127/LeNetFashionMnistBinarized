{
  "nbformat": 4,
  "nbformat_minor": 0,
  "metadata": {
    "colab": {
      "name": "LeNetFashionMnistBinarized.ipynb",
      "provenance": [],
      "collapsed_sections": [],
      "include_colab_link": true
    },
    "kernelspec": {
      "display_name": "Python 3",
      "name": "python3"
    },
    "language_info": {
      "name": "python"
    }
  },
  "cells": [
    {
      "cell_type": "markdown",
      "metadata": {
        "id": "view-in-github",
        "colab_type": "text"
      },
      "source": [
        "<a href=\"https://colab.research.google.com/github/Koperek127/LeNetFashionMnistBinarized/blob/main/LeNetFashionMnistBinarized.ipynb\" target=\"_parent\"><img src=\"https://colab.research.google.com/assets/colab-badge.svg\" alt=\"Open In Colab\"/></a>"
      ]
    },
    {
      "cell_type": "code",
      "metadata": {
        "colab": {
          "base_uri": "https://localhost:8080/"
        },
        "id": "Lg2iP-CyPRwp",
        "outputId": "5514b9f2-47ea-4d93-bceb-44739e9b3d51"
      },
      "source": [
        "!pip install larq\n",
        "\n",
        "from __future__ import absolute_import, division, print_function, unicode_literals\n",
        "import larq as lq\n",
        "import tensorflow as tf\n",
        "import tensorflow_datasets as tfds\n",
        "import matplotlib.pyplot as plt\n",
        "import numpy as np\n",
        "import math"
      ],
      "execution_count": null,
      "outputs": [
        {
          "output_type": "stream",
          "text": [
            "Collecting larq\n",
            "\u001b[?25l  Downloading https://files.pythonhosted.org/packages/66/39/0b21781235944ae86ef5bb8df1f359a277c8a8d495173ff438f1a6e41a2b/larq-0.12.0-py3-none-any.whl (63kB)\n",
            "\r\u001b[K     |█████▏                          | 10kB 13.4MB/s eta 0:00:01\r\u001b[K     |██████████▎                     | 20kB 17.4MB/s eta 0:00:01\r\u001b[K     |███████████████▍                | 30kB 20.8MB/s eta 0:00:01\r\u001b[K     |████████████████████▌           | 40kB 23.9MB/s eta 0:00:01\r\u001b[K     |█████████████████████████▋      | 51kB 26.2MB/s eta 0:00:01\r\u001b[K     |██████████████████████████████▉ | 61kB 28.8MB/s eta 0:00:01\r\u001b[K     |████████████████████████████████| 71kB 7.6MB/s \n",
            "\u001b[?25hCollecting terminaltables>=3.1.0\n",
            "  Downloading https://files.pythonhosted.org/packages/9b/c4/4a21174f32f8a7e1104798c445dacdc1d4df86f2f26722767034e4de4bff/terminaltables-3.1.0.tar.gz\n",
            "Collecting importlib-metadata<4.0,>=2.0; python_version < \"3.8\"\n",
            "  Downloading https://files.pythonhosted.org/packages/52/d0/bdb31463f2d9ca111e39b268518e9baa3542ef73ca449b711a7b4da69764/importlib_metadata-3.10.1-py3-none-any.whl\n",
            "Requirement already satisfied: numpy<2.0,>=1.15.4 in /usr/local/lib/python3.7/dist-packages (from larq) (1.19.5)\n",
            "Requirement already satisfied: zipp>=0.5 in /usr/local/lib/python3.7/dist-packages (from importlib-metadata<4.0,>=2.0; python_version < \"3.8\"->larq) (3.4.1)\n",
            "Requirement already satisfied: typing-extensions>=3.6.4; python_version < \"3.8\" in /usr/local/lib/python3.7/dist-packages (from importlib-metadata<4.0,>=2.0; python_version < \"3.8\"->larq) (3.7.4.3)\n",
            "Building wheels for collected packages: terminaltables\n",
            "  Building wheel for terminaltables (setup.py) ... \u001b[?25l\u001b[?25hdone\n",
            "  Created wheel for terminaltables: filename=terminaltables-3.1.0-cp37-none-any.whl size=15356 sha256=80ee221864bd93310e59ea66a6d285be05062be62ddb19ba1a31e6221c43f68b\n",
            "  Stored in directory: /root/.cache/pip/wheels/30/6b/50/6c75775b681fb36cdfac7f19799888ef9d8813aff9e379663e\n",
            "Successfully built terminaltables\n",
            "Installing collected packages: terminaltables, importlib-metadata, larq\n",
            "  Found existing installation: importlib-metadata 4.0.1\n",
            "    Uninstalling importlib-metadata-4.0.1:\n",
            "      Successfully uninstalled importlib-metadata-4.0.1\n",
            "Successfully installed importlib-metadata-3.10.1 larq-0.12.0 terminaltables-3.1.0\n"
          ],
          "name": "stdout"
        }
      ]
    },
    {
      "cell_type": "code",
      "metadata": {
        "colab": {
          "base_uri": "https://localhost:8080/"
        },
        "id": "X0mEYVfOQIaX",
        "outputId": "f6f6194d-9a72-49ac-f125-e2a77c9c513d"
      },
      "source": [
        "(train_images, train_labels), (test_images, test_labels) = tf.keras.datasets.fashion_mnist.load_data()\n",
        "train_images = train_images.reshape((60000, 28, 28, 1))\n",
        "test_images = test_images.reshape((10000, 28, 28, 1))\n",
        "\n",
        "# Normalize pixel values to be between -1 and 1\n",
        "train_images, test_images = train_images / 127.5 - 1, test_images / 127.5 - 1"
      ],
      "execution_count": null,
      "outputs": [
        {
          "output_type": "stream",
          "text": [
            "Downloading data from https://storage.googleapis.com/tensorflow/tf-keras-datasets/train-labels-idx1-ubyte.gz\n",
            "32768/29515 [=================================] - 0s 0us/step\n",
            "Downloading data from https://storage.googleapis.com/tensorflow/tf-keras-datasets/train-images-idx3-ubyte.gz\n",
            "26427392/26421880 [==============================] - 0s 0us/step\n",
            "Downloading data from https://storage.googleapis.com/tensorflow/tf-keras-datasets/t10k-labels-idx1-ubyte.gz\n",
            "8192/5148 [===============================================] - 0s 0us/step\n",
            "Downloading data from https://storage.googleapis.com/tensorflow/tf-keras-datasets/t10k-images-idx3-ubyte.gz\n",
            "4423680/4422102 [==============================] - 0s 0us/step\n"
          ],
          "name": "stdout"
        }
      ]
    },
    {
      "cell_type": "code",
      "metadata": {
        "id": "WKgkj8I4p9zr"
      },
      "source": [
        "kwargs = dict(input_quantizer=\"ste_sign\",\n",
        "              kernel_quantizer=\"ste_sign\",\n",
        "              kernel_constraint=\"weight_clip\")\n"
      ],
      "execution_count": null,
      "outputs": []
    },
    {
      "cell_type": "code",
      "metadata": {
        "colab": {
          "base_uri": "https://localhost:8080/"
        },
        "id": "UQ5eQpugQvFG",
        "outputId": "3782ecd9-a04b-4bcc-e268-2d9c53a6c8e3"
      },
      "source": [
        "modelLenet = tf.keras.Sequential([\n",
        "    tf.keras.layers.Conv2D(6, (5,5), padding='same', activation=tf.nn.relu,\n",
        "                           input_shape=(28, 28, 1)),\n",
        "    tf.keras.layers.MaxPooling2D((2, 2), strides=2),\n",
        "    tf.keras.layers.Conv2D(16, (5,5), padding='same', activation=tf.nn.relu),\n",
        "    tf.keras.layers.MaxPooling2D((2, 2), strides=2),\n",
        "    tf.keras.layers.Flatten(),\n",
        "    tf.keras.layers.Dense(120, activation=tf.nn.relu),\n",
        "    tf.keras.layers.Dense(84, activation=tf.nn.relu),\n",
        "    tf.keras.layers.Dense(10, activation=tf.nn.softmax),\n",
        "])\n",
        "\n",
        "model = tf.keras.Sequential([\n",
        "    tf.keras.layers.Conv2D(6, (5,5), padding='same', activation=tf.nn.relu,\n",
        "                           input_shape=(28, 28, 1)),\n",
        "    tf.keras.layers.MaxPooling2D((2, 2), strides=2),\n",
        "    tf.keras.layers.Conv2D(16, (5,5), padding='same', activation=tf.nn.relu),\n",
        "    tf.keras.layers.MaxPooling2D((2, 2), strides=2),\n",
        "    tf.keras.layers.Flatten(),\n",
        "    tf.keras.layers.Dense(120, activation=tf.nn.relu),\n",
        "    tf.keras.layers.Dense(84, activation=tf.nn.relu),\n",
        "    #tf.keras.layers.Dense(10, activation=tf.nn.softmax),\n",
        "    tf.keras.layers.BatchNormalization(momentum=0.999, scale=False),\n",
        "    tf.keras.layers.Flatten(),\n",
        "    lq.layers.QuantDense(10, use_bias=False, **kwargs),\n",
        "    tf.keras.layers.BatchNormalization(momentum=0.999, scale=False),\n",
        "    tf.keras.layers.Activation(\"softmax\")\n",
        "])\n",
        "\n",
        "lq.models.summary(modelLenet)\n",
        "lq.models.summary(model)"
      ],
      "execution_count": null,
      "outputs": [
        {
          "output_type": "stream",
          "text": [
            "+sequential stats---------------------------------------------------------------+\n",
            "| Layer            Input prec.           Outputs  # 32-bit  Memory  32-bit MACs |\n",
            "|                        (bit)                         x 1    (kB)              |\n",
            "+-------------------------------------------------------------------------------+\n",
            "| conv2d                     -   (-1, 28, 28, 6)       156    0.61       117600 |\n",
            "| max_pooling2d              -   (-1, 14, 14, 6)         0       0            0 |\n",
            "| conv2d_1                   -  (-1, 14, 14, 16)      2416    9.44       470400 |\n",
            "| max_pooling2d_1            -    (-1, 7, 7, 16)         0       0            0 |\n",
            "| flatten                    -         (-1, 784)         0       0            0 |\n",
            "| dense                      -         (-1, 120)     94200  367.97        94080 |\n",
            "| dense_1                    -          (-1, 84)     10164   39.70        10080 |\n",
            "| dense_2                    -          (-1, 10)       850    3.32          840 |\n",
            "+-------------------------------------------------------------------------------+\n",
            "| Total                                             107786  421.04       693000 |\n",
            "+-------------------------------------------------------------------------------+\n",
            "+sequential summary-------------------------+\n",
            "| Total params                   108 k      |\n",
            "| Trainable params               108 k      |\n",
            "| Non-trainable params           0          |\n",
            "| Model size                     421.04 KiB |\n",
            "| Model size (8-bit FP weights)  105.26 KiB |\n",
            "| Float-32 Equivalent            421.04 KiB |\n",
            "| Compression Ratio of Memory    1.00       |\n",
            "| Number of MACs                 693 k      |\n",
            "+-------------------------------------------+\n",
            "+sequential_1 stats----------------------------------------------------------------------------------------+\n",
            "| Layer                  Input prec.           Outputs  # 1-bit  # 32-bit  Memory  1-bit MACs  32-bit MACs |\n",
            "|                              (bit)                        x 1       x 1    (kB)                          |\n",
            "+----------------------------------------------------------------------------------------------------------+\n",
            "| conv2d_2                         -   (-1, 28, 28, 6)        0       156    0.61           0       117600 |\n",
            "| max_pooling2d_2                  -   (-1, 14, 14, 6)        0         0       0           0            0 |\n",
            "| conv2d_3                         -  (-1, 14, 14, 16)        0      2416    9.44           0       470400 |\n",
            "| max_pooling2d_3                  -    (-1, 7, 7, 16)        0         0       0           0            0 |\n",
            "| flatten_1                        -         (-1, 784)        0         0       0           0            0 |\n",
            "| dense_3                          -         (-1, 120)        0     94200  367.97           0        94080 |\n",
            "| dense_4                          -          (-1, 84)        0     10164   39.70           0        10080 |\n",
            "| batch_normalization              -          (-1, 84)        0       168    0.66           0            0 |\n",
            "| flatten_2                        -          (-1, 84)        0         0       0           0            0 |\n",
            "| quant_dense                      1          (-1, 10)      840         0    0.10         840            0 |\n",
            "| batch_normalization_1            -          (-1, 10)        0        20    0.08           0            0 |\n",
            "| activation                       -          (-1, 10)        0         0       0           ?            ? |\n",
            "+----------------------------------------------------------------------------------------------------------+\n",
            "| Total                                                     840    107124  418.56         840       692160 |\n",
            "+----------------------------------------------------------------------------------------------------------+\n",
            "+sequential_1 summary--------------------------+\n",
            "| Total params                      108 k      |\n",
            "| Trainable params                  108 k      |\n",
            "| Non-trainable params              188        |\n",
            "| Model size                        418.56 KiB |\n",
            "| Model size (8-bit FP weights)     104.72 KiB |\n",
            "| Float-32 Equivalent               421.73 KiB |\n",
            "| Compression Ratio of Memory       0.99       |\n",
            "| Number of MACs                    693 k      |\n",
            "| Ratio of MACs that are binarized  0.0012     |\n",
            "+----------------------------------------------+\n"
          ],
          "name": "stdout"
        }
      ]
    },
    {
      "cell_type": "code",
      "metadata": {
        "colab": {
          "base_uri": "https://localhost:8080/"
        },
        "id": "QekphZoiQz5C",
        "outputId": "cd3b33ef-008d-4279-ca97-02389fc6fc8f"
      },
      "source": [
        "modelLenet.compile(optimizer='adam',\n",
        "              loss='sparse_categorical_crossentropy',\n",
        "              metrics=['accuracy'])\n",
        "\n",
        "trained_Lmodel = modelLenet.fit(train_images, train_labels, batch_size=64, epochs=10)\n",
        "\n",
        "test_lossL, test_accL = modelLenet.evaluate(test_images, test_labels)"
      ],
      "execution_count": null,
      "outputs": [
        {
          "output_type": "stream",
          "text": [
            "Epoch 1/10\n",
            "938/938 [==============================] - 40s 42ms/step - loss: 0.7048 - accuracy: 0.7480\n",
            "Epoch 2/10\n",
            "938/938 [==============================] - 40s 42ms/step - loss: 0.3445 - accuracy: 0.8741\n",
            "Epoch 3/10\n",
            "938/938 [==============================] - 40s 42ms/step - loss: 0.2952 - accuracy: 0.8916\n",
            "Epoch 4/10\n",
            "938/938 [==============================] - 40s 42ms/step - loss: 0.2567 - accuracy: 0.9036\n",
            "Epoch 5/10\n",
            "938/938 [==============================] - 40s 42ms/step - loss: 0.2342 - accuracy: 0.9123\n",
            "Epoch 6/10\n",
            "938/938 [==============================] - 40s 42ms/step - loss: 0.2127 - accuracy: 0.9200\n",
            "Epoch 7/10\n",
            "938/938 [==============================] - 40s 42ms/step - loss: 0.1998 - accuracy: 0.9234\n",
            "Epoch 8/10\n",
            "938/938 [==============================] - 40s 42ms/step - loss: 0.1865 - accuracy: 0.9299\n",
            "Epoch 9/10\n",
            "938/938 [==============================] - 40s 42ms/step - loss: 0.1734 - accuracy: 0.9341\n",
            "Epoch 10/10\n",
            "938/938 [==============================] - 39s 42ms/step - loss: 0.1582 - accuracy: 0.9400\n",
            "313/313 [==============================] - 4s 11ms/step - loss: 0.2675 - accuracy: 0.9049\n"
          ],
          "name": "stdout"
        }
      ]
    },
    {
      "cell_type": "code",
      "metadata": {
        "colab": {
          "base_uri": "https://localhost:8080/"
        },
        "id": "BHmGqxZAszBt",
        "outputId": "d2b52e92-d2b6-4c4b-8028-4662a715504c"
      },
      "source": [
        "model.compile(optimizer='adam',\n",
        "              loss='sparse_categorical_crossentropy',\n",
        "              metrics=['accuracy'])\n",
        "trained_model = model.fit(train_images, train_labels, batch_size=64, epochs=10)\n",
        "\n",
        "test_loss, test_acc = model.evaluate(test_images, test_labels)"
      ],
      "execution_count": null,
      "outputs": [
        {
          "output_type": "stream",
          "text": [
            "Epoch 1/10\n",
            "938/938 [==============================] - 41s 43ms/step - loss: 0.8843 - accuracy: 0.7813\n",
            "Epoch 2/10\n",
            "938/938 [==============================] - 40s 43ms/step - loss: 0.6208 - accuracy: 0.8837\n",
            "Epoch 3/10\n",
            "938/938 [==============================] - 40s 43ms/step - loss: 0.5763 - accuracy: 0.8998\n",
            "Epoch 4/10\n",
            "938/938 [==============================] - 40s 43ms/step - loss: 0.5572 - accuracy: 0.9076\n",
            "Epoch 5/10\n",
            "938/938 [==============================] - 40s 43ms/step - loss: 0.5411 - accuracy: 0.9150\n",
            "Epoch 6/10\n",
            "938/938 [==============================] - 40s 43ms/step - loss: 0.5298 - accuracy: 0.9185\n",
            "Epoch 7/10\n",
            "938/938 [==============================] - 40s 43ms/step - loss: 0.5128 - accuracy: 0.9269\n",
            "Epoch 8/10\n",
            "938/938 [==============================] - 40s 43ms/step - loss: 0.5074 - accuracy: 0.9299\n",
            "Epoch 9/10\n",
            "938/938 [==============================] - 40s 43ms/step - loss: 0.4988 - accuracy: 0.9303\n",
            "Epoch 10/10\n",
            "938/938 [==============================] - 40s 42ms/step - loss: 0.4831 - accuracy: 0.9380\n",
            "313/313 [==============================] - 4s 12ms/step - loss: 0.5504 - accuracy: 0.8962\n"
          ],
          "name": "stdout"
        }
      ]
    },
    {
      "cell_type": "code",
      "metadata": {
        "colab": {
          "base_uri": "https://localhost:8080/"
        },
        "id": "n_fYSG5v7iEv",
        "outputId": "d92f060a-3e9a-4968-cea6-0d9a8ac6dccc"
      },
      "source": [
        "model2 = tf.keras.Sequential([\n",
        "    tf.keras.layers.Conv2D(6, (5,5), padding='same', activation=tf.nn.relu,\n",
        "                           input_shape=(28, 28, 1)),\n",
        "    tf.keras.layers.MaxPooling2D((2, 2), strides=2),\n",
        "    tf.keras.layers.Conv2D(16, (5,5), padding='same', activation=tf.nn.relu),\n",
        "    tf.keras.layers.MaxPooling2D((2, 2), strides=2),\n",
        "    tf.keras.layers.Flatten(),\n",
        "    tf.keras.layers.Dense(120, activation=tf.nn.relu),\n",
        "    tf.keras.layers.Dense(84, activation=tf.nn.relu),\n",
        "    #tf.keras.layers.Dense(10, activation=tf.nn.softmax),\n",
        "    tf.keras.layers.BatchNormalization(momentum=0.999, scale=False),\n",
        "    tf.keras.layers.Flatten(),\n",
        "    lq.layers.QuantDense(20, use_bias=False, **kwargs),\n",
        "    tf.keras.layers.BatchNormalization(momentum=0.999, scale=False),\n",
        "    tf.keras.layers.Activation(\"softmax\")\n",
        "])\n",
        "\n",
        "lq.models.summary(model2)\n",
        "\n",
        "model2.compile(optimizer='adam',\n",
        "              loss='sparse_categorical_crossentropy',\n",
        "              metrics=['accuracy'])\n",
        "trained_model2 = model2.fit(train_images, train_labels, batch_size=64, epochs=10)\n",
        "\n",
        "test_loss2, test_acc2 = model2.evaluate(test_images, test_labels)"
      ],
      "execution_count": null,
      "outputs": [
        {
          "output_type": "stream",
          "text": [
            "+sequential_2 stats----------------------------------------------------------------------------------------+\n",
            "| Layer                  Input prec.           Outputs  # 1-bit  # 32-bit  Memory  1-bit MACs  32-bit MACs |\n",
            "|                              (bit)                        x 1       x 1    (kB)                          |\n",
            "+----------------------------------------------------------------------------------------------------------+\n",
            "| conv2d_4                         -   (-1, 28, 28, 6)        0       156    0.61           0       117600 |\n",
            "| max_pooling2d_4                  -   (-1, 14, 14, 6)        0         0       0           0            0 |\n",
            "| conv2d_5                         -  (-1, 14, 14, 16)        0      2416    9.44           0       470400 |\n",
            "| max_pooling2d_5                  -    (-1, 7, 7, 16)        0         0       0           0            0 |\n",
            "| flatten_3                        -         (-1, 784)        0         0       0           0            0 |\n",
            "| dense_5                          -         (-1, 120)        0     94200  367.97           0        94080 |\n",
            "| dense_6                          -          (-1, 84)        0     10164   39.70           0        10080 |\n",
            "| batch_normalization_2            -          (-1, 84)        0       168    0.66           0            0 |\n",
            "| flatten_4                        -          (-1, 84)        0         0       0           0            0 |\n",
            "| quant_dense_1                    1          (-1, 20)     1680         0    0.21        1680            0 |\n",
            "| batch_normalization_3            -          (-1, 20)        0        40    0.16           0            0 |\n",
            "| activation_1                     -          (-1, 20)        0         0       0           ?            ? |\n",
            "+----------------------------------------------------------------------------------------------------------+\n",
            "| Total                                                    1680    107144  418.74        1680       692160 |\n",
            "+----------------------------------------------------------------------------------------------------------+\n",
            "+sequential_2 summary--------------------------+\n",
            "| Total params                      109 k      |\n",
            "| Trainable params                  109 k      |\n",
            "| Non-trainable params              208        |\n",
            "| Model size                        418.74 KiB |\n",
            "| Model size (8-bit FP weights)     104.84 KiB |\n",
            "| Float-32 Equivalent               425.09 KiB |\n",
            "| Compression Ratio of Memory       0.99       |\n",
            "| Number of MACs                    694 k      |\n",
            "| Ratio of MACs that are binarized  0.0024     |\n",
            "+----------------------------------------------+\n",
            "Epoch 1/10\n",
            "938/938 [==============================] - 41s 42ms/step - loss: 1.2758 - accuracy: 0.7653\n",
            "Epoch 2/10\n",
            "938/938 [==============================] - 40s 42ms/step - loss: 0.7546 - accuracy: 0.8833\n",
            "Epoch 3/10\n",
            "938/938 [==============================] - 40s 42ms/step - loss: 0.6431 - accuracy: 0.9000\n",
            "Epoch 4/10\n",
            "938/938 [==============================] - 40s 42ms/step - loss: 0.5984 - accuracy: 0.9079\n",
            "Epoch 5/10\n",
            "938/938 [==============================] - 40s 42ms/step - loss: 0.5637 - accuracy: 0.9163\n",
            "Epoch 6/10\n",
            "938/938 [==============================] - 40s 42ms/step - loss: 0.5421 - accuracy: 0.9229\n",
            "Epoch 7/10\n",
            "938/938 [==============================] - 40s 42ms/step - loss: 0.5205 - accuracy: 0.9277\n",
            "Epoch 8/10\n",
            "938/938 [==============================] - 40s 42ms/step - loss: 0.5103 - accuracy: 0.9312\n",
            "Epoch 9/10\n",
            "938/938 [==============================] - 40s 42ms/step - loss: 0.4954 - accuracy: 0.9389\n",
            "Epoch 10/10\n",
            "938/938 [==============================] - 40s 42ms/step - loss: 0.4882 - accuracy: 0.9403\n",
            "313/313 [==============================] - 4s 11ms/step - loss: 0.5551 - accuracy: 0.9063\n"
          ],
          "name": "stdout"
        }
      ]
    },
    {
      "cell_type": "code",
      "metadata": {
        "colab": {
          "base_uri": "https://localhost:8080/"
        },
        "id": "jmTOoaCO-Z-1",
        "outputId": "fed7b84a-0612-4f16-a143-3962cb50ab9c"
      },
      "source": [
        "model3 = tf.keras.Sequential([\n",
        "    tf.keras.layers.Conv2D(6, (5,5), padding='same', activation=tf.nn.relu,\n",
        "                           input_shape=(28, 28, 1)),\n",
        "    tf.keras.layers.MaxPooling2D((2, 2), strides=2),\n",
        "    tf.keras.layers.Conv2D(16, (5,5), padding='same', activation=tf.nn.relu),\n",
        "    tf.keras.layers.MaxPooling2D((2, 2), strides=2),\n",
        "    tf.keras.layers.Flatten(),\n",
        "    tf.keras.layers.Dense(120, activation=tf.nn.relu),\n",
        "    tf.keras.layers.Dense(84, activation=tf.nn.relu),\n",
        "    #tf.keras.layers.Dense(10, activation=tf.nn.softmax),\n",
        "    tf.keras.layers.BatchNormalization(momentum=0.999, scale=False),\n",
        "    tf.keras.layers.Flatten(),\n",
        "    lq.layers.QuantDense(40, use_bias=False, **kwargs),\n",
        "    tf.keras.layers.BatchNormalization(momentum=0.999, scale=False),\n",
        "    tf.keras.layers.Activation(\"softmax\")\n",
        "])\n",
        "\n",
        "lq.models.summary(model3)\n",
        "\n",
        "model3.compile(optimizer='adam',\n",
        "              loss='sparse_categorical_crossentropy',\n",
        "              metrics=['accuracy'])\n",
        "trained_model3 = model3.fit(train_images, train_labels, batch_size=64, epochs=10)\n",
        "\n",
        "test_loss3, test_acc3 = model3.evaluate(test_images, test_labels)"
      ],
      "execution_count": null,
      "outputs": [
        {
          "output_type": "stream",
          "text": [
            "+sequential_3 stats----------------------------------------------------------------------------------------+\n",
            "| Layer                  Input prec.           Outputs  # 1-bit  # 32-bit  Memory  1-bit MACs  32-bit MACs |\n",
            "|                              (bit)                        x 1       x 1    (kB)                          |\n",
            "+----------------------------------------------------------------------------------------------------------+\n",
            "| conv2d_6                         -   (-1, 28, 28, 6)        0       156    0.61           0       117600 |\n",
            "| max_pooling2d_6                  -   (-1, 14, 14, 6)        0         0       0           0            0 |\n",
            "| conv2d_7                         -  (-1, 14, 14, 16)        0      2416    9.44           0       470400 |\n",
            "| max_pooling2d_7                  -    (-1, 7, 7, 16)        0         0       0           0            0 |\n",
            "| flatten_5                        -         (-1, 784)        0         0       0           0            0 |\n",
            "| dense_7                          -         (-1, 120)        0     94200  367.97           0        94080 |\n",
            "| dense_8                          -          (-1, 84)        0     10164   39.70           0        10080 |\n",
            "| batch_normalization_4            -          (-1, 84)        0       168    0.66           0            0 |\n",
            "| flatten_6                        -          (-1, 84)        0         0       0           0            0 |\n",
            "| quant_dense_2                    1          (-1, 40)     3360         0    0.41        3360            0 |\n",
            "| batch_normalization_5            -          (-1, 40)        0        80    0.31           0            0 |\n",
            "| activation_2                     -          (-1, 40)        0         0       0           ?            ? |\n",
            "+----------------------------------------------------------------------------------------------------------+\n",
            "| Total                                                    3360    107184  419.10        3360       692160 |\n",
            "+----------------------------------------------------------------------------------------------------------+\n",
            "+sequential_3 summary--------------------------+\n",
            "| Total params                      111 k      |\n",
            "| Trainable params                  110 k      |\n",
            "| Non-trainable params              248        |\n",
            "| Model size                        419.10 KiB |\n",
            "| Model size (8-bit FP weights)     105.08 KiB |\n",
            "| Float-32 Equivalent               431.81 KiB |\n",
            "| Compression Ratio of Memory       0.97       |\n",
            "| Number of MACs                    696 k      |\n",
            "| Ratio of MACs that are binarized  0.0048     |\n",
            "+----------------------------------------------+\n",
            "Epoch 1/10\n",
            "938/938 [==============================] - 41s 43ms/step - loss: 1.7578 - accuracy: 0.7298\n",
            "Epoch 2/10\n",
            "938/938 [==============================] - 40s 43ms/step - loss: 0.9119 - accuracy: 0.8816\n",
            "Epoch 3/10\n",
            "938/938 [==============================] - 40s 43ms/step - loss: 0.7164 - accuracy: 0.8977\n",
            "Epoch 4/10\n",
            "938/938 [==============================] - 40s 43ms/step - loss: 0.6320 - accuracy: 0.9064\n",
            "Epoch 5/10\n",
            "938/938 [==============================] - 40s 43ms/step - loss: 0.5883 - accuracy: 0.9120\n",
            "Epoch 6/10\n",
            "938/938 [==============================] - 40s 43ms/step - loss: 0.5559 - accuracy: 0.9188\n",
            "Epoch 7/10\n",
            "938/938 [==============================] - 40s 43ms/step - loss: 0.5394 - accuracy: 0.9218\n",
            "Epoch 8/10\n",
            "938/938 [==============================] - 40s 43ms/step - loss: 0.5222 - accuracy: 0.9286\n",
            "Epoch 9/10\n",
            "938/938 [==============================] - 40s 43ms/step - loss: 0.5087 - accuracy: 0.9324\n",
            "Epoch 10/10\n",
            "938/938 [==============================] - 40s 43ms/step - loss: 0.5017 - accuracy: 0.9350\n",
            "313/313 [==============================] - 4s 12ms/step - loss: 0.5550 - accuracy: 0.8981\n"
          ],
          "name": "stdout"
        }
      ]
    },
    {
      "cell_type": "code",
      "metadata": {
        "colab": {
          "base_uri": "https://localhost:8080/"
        },
        "id": "U6mm8VzBB_Hc",
        "outputId": "7fa60229-476d-4cc2-ba89-dfd31eeacfa2"
      },
      "source": [
        "model4 = tf.keras.Sequential([\n",
        "    tf.keras.layers.Conv2D(6, (5,5), padding='same', activation=tf.nn.relu,\n",
        "                           input_shape=(28, 28, 1)),\n",
        "    tf.keras.layers.MaxPooling2D((2, 2), strides=2),\n",
        "    tf.keras.layers.Conv2D(16, (5,5), padding='same', activation=tf.nn.relu),\n",
        "    tf.keras.layers.MaxPooling2D((2, 2), strides=2),\n",
        "    tf.keras.layers.Flatten(),\n",
        "    tf.keras.layers.Dense(120, activation=tf.nn.relu),\n",
        "    tf.keras.layers.Dense(84, activation=tf.nn.relu),\n",
        "    #tf.keras.layers.Dense(10, activation=tf.nn.softmax),\n",
        "    tf.keras.layers.BatchNormalization(momentum=0.999, scale=False),\n",
        "    tf.keras.layers.Flatten(),\n",
        "    lq.layers.QuantDense(80, use_bias=False, **kwargs),\n",
        "    tf.keras.layers.BatchNormalization(momentum=0.999, scale=False),\n",
        "    tf.keras.layers.Activation(\"softmax\")\n",
        "])\n",
        "\n",
        "lq.models.summary(model4)\n",
        "\n",
        "model4.compile(optimizer='adam',\n",
        "              loss='sparse_categorical_crossentropy',\n",
        "              metrics=['accuracy'])\n",
        "trained_model4 = model4.fit(train_images, train_labels, batch_size=64, epochs=10)\n",
        "\n",
        "test_loss4, test_acc4 = model4.evaluate(test_images, test_labels)"
      ],
      "execution_count": null,
      "outputs": [
        {
          "output_type": "stream",
          "text": [
            "+sequential_4 stats----------------------------------------------------------------------------------------+\n",
            "| Layer                  Input prec.           Outputs  # 1-bit  # 32-bit  Memory  1-bit MACs  32-bit MACs |\n",
            "|                              (bit)                        x 1       x 1    (kB)                          |\n",
            "+----------------------------------------------------------------------------------------------------------+\n",
            "| conv2d_8                         -   (-1, 28, 28, 6)        0       156    0.61           0       117600 |\n",
            "| max_pooling2d_8                  -   (-1, 14, 14, 6)        0         0       0           0            0 |\n",
            "| conv2d_9                         -  (-1, 14, 14, 16)        0      2416    9.44           0       470400 |\n",
            "| max_pooling2d_9                  -    (-1, 7, 7, 16)        0         0       0           0            0 |\n",
            "| flatten_7                        -         (-1, 784)        0         0       0           0            0 |\n",
            "| dense_9                          -         (-1, 120)        0     94200  367.97           0        94080 |\n",
            "| dense_10                         -          (-1, 84)        0     10164   39.70           0        10080 |\n",
            "| batch_normalization_6            -          (-1, 84)        0       168    0.66           0            0 |\n",
            "| flatten_8                        -          (-1, 84)        0         0       0           0            0 |\n",
            "| quant_dense_3                    1          (-1, 80)     6720         0    0.82        6720            0 |\n",
            "| batch_normalization_7            -          (-1, 80)        0       160    0.62           0            0 |\n",
            "| activation_3                     -          (-1, 80)        0         0       0           ?            ? |\n",
            "+----------------------------------------------------------------------------------------------------------+\n",
            "| Total                                                    6720    107264  419.82        6720       692160 |\n",
            "+----------------------------------------------------------------------------------------------------------+\n",
            "+sequential_4 summary--------------------------+\n",
            "| Total params                      114 k      |\n",
            "| Trainable params                  114 k      |\n",
            "| Non-trainable params              328        |\n",
            "| Model size                        419.82 KiB |\n",
            "| Model size (8-bit FP weights)     105.57 KiB |\n",
            "| Float-32 Equivalent               445.25 KiB |\n",
            "| Compression Ratio of Memory       0.94       |\n",
            "| Number of MACs                    699 k      |\n",
            "| Ratio of MACs that are binarized  0.0096     |\n",
            "+----------------------------------------------+\n",
            "Epoch 1/10\n",
            "938/938 [==============================] - 41s 43ms/step - loss: 2.2513 - accuracy: 0.7094\n",
            "Epoch 2/10\n",
            "938/938 [==============================] - 40s 43ms/step - loss: 1.1313 - accuracy: 0.8834\n",
            "Epoch 3/10\n",
            "938/938 [==============================] - 40s 43ms/step - loss: 0.7903 - accuracy: 0.9018\n",
            "Epoch 4/10\n",
            "938/938 [==============================] - 40s 43ms/step - loss: 0.6710 - accuracy: 0.9057\n",
            "Epoch 5/10\n",
            "938/938 [==============================] - 40s 43ms/step - loss: 0.6093 - accuracy: 0.9138\n",
            "Epoch 6/10\n",
            "938/938 [==============================] - 40s 43ms/step - loss: 0.5689 - accuracy: 0.9191\n",
            "Epoch 7/10\n",
            "938/938 [==============================] - 40s 43ms/step - loss: 0.5475 - accuracy: 0.9242\n",
            "Epoch 8/10\n",
            "938/938 [==============================] - 40s 43ms/step - loss: 0.5304 - accuracy: 0.9295\n",
            "Epoch 9/10\n",
            "938/938 [==============================] - 40s 43ms/step - loss: 0.5117 - accuracy: 0.9325\n",
            "Epoch 10/10\n",
            "938/938 [==============================] - 40s 43ms/step - loss: 0.5059 - accuracy: 0.9327\n",
            "313/313 [==============================] - 4s 12ms/step - loss: 0.5501 - accuracy: 0.8982\n"
          ],
          "name": "stdout"
        }
      ]
    },
    {
      "cell_type": "code",
      "metadata": {
        "colab": {
          "base_uri": "https://localhost:8080/"
        },
        "id": "Tea6SWPZGVkS",
        "outputId": "ab16ce84-2ef9-4277-cd2e-1f8d35afed57"
      },
      "source": [
        "model5 = tf.keras.Sequential([\n",
        "    tf.keras.layers.Conv2D(6, (5,5), padding='same', activation=tf.nn.relu,\n",
        "                           input_shape=(28, 28, 1)),\n",
        "    tf.keras.layers.MaxPooling2D((2, 2), strides=2),\n",
        "    tf.keras.layers.Conv2D(16, (5,5), padding='same', activation=tf.nn.relu),\n",
        "    tf.keras.layers.MaxPooling2D((2, 2), strides=2),\n",
        "    tf.keras.layers.Flatten(),\n",
        "    tf.keras.layers.Dense(120, activation=tf.nn.relu),\n",
        "    tf.keras.layers.Dense(84, activation=tf.nn.relu),\n",
        "    #tf.keras.layers.Dense(10, activation=tf.nn.softmax),\n",
        "    tf.keras.layers.BatchNormalization(momentum=0.999, scale=False),\n",
        "    tf.keras.layers.Flatten(),\n",
        "    lq.layers.QuantDense(10, use_bias=False, **kwargs),\n",
        "    tf.keras.layers.BatchNormalization(momentum=0.999, scale=False),\n",
        "    tf.keras.layers.Activation(\"softmax\")\n",
        "])\n",
        "\n",
        "lq.models.summary(model5)\n",
        "\n",
        "model5.compile(optimizer='adam',\n",
        "              loss='sparse_categorical_crossentropy',\n",
        "              metrics=['accuracy'])\n",
        "trained_model5 = model5.fit(train_images, train_labels, batch_size=16, epochs=10)\n",
        "\n",
        "test_loss5, test_acc5 = model5.evaluate(test_images, test_labels)"
      ],
      "execution_count": null,
      "outputs": [
        {
          "output_type": "stream",
          "text": [
            "+sequential_5 stats----------------------------------------------------------------------------------------+\n",
            "| Layer                  Input prec.           Outputs  # 1-bit  # 32-bit  Memory  1-bit MACs  32-bit MACs |\n",
            "|                              (bit)                        x 1       x 1    (kB)                          |\n",
            "+----------------------------------------------------------------------------------------------------------+\n",
            "| conv2d_10                        -   (-1, 28, 28, 6)        0       156    0.61           0       117600 |\n",
            "| max_pooling2d_10                 -   (-1, 14, 14, 6)        0         0       0           0            0 |\n",
            "| conv2d_11                        -  (-1, 14, 14, 16)        0      2416    9.44           0       470400 |\n",
            "| max_pooling2d_11                 -    (-1, 7, 7, 16)        0         0       0           0            0 |\n",
            "| flatten_9                        -         (-1, 784)        0         0       0           0            0 |\n",
            "| dense_11                         -         (-1, 120)        0     94200  367.97           0        94080 |\n",
            "| dense_12                         -          (-1, 84)        0     10164   39.70           0        10080 |\n",
            "| batch_normalization_8            -          (-1, 84)        0       168    0.66           0            0 |\n",
            "| flatten_10                       -          (-1, 84)        0         0       0           0            0 |\n",
            "| quant_dense_4                    1          (-1, 10)      840         0    0.10         840            0 |\n",
            "| batch_normalization_9            -          (-1, 10)        0        20    0.08           0            0 |\n",
            "| activation_4                     -          (-1, 10)        0         0       0           ?            ? |\n",
            "+----------------------------------------------------------------------------------------------------------+\n",
            "| Total                                                     840    107124  418.56         840       692160 |\n",
            "+----------------------------------------------------------------------------------------------------------+\n",
            "+sequential_5 summary--------------------------+\n",
            "| Total params                      108 k      |\n",
            "| Trainable params                  108 k      |\n",
            "| Non-trainable params              188        |\n",
            "| Model size                        418.56 KiB |\n",
            "| Model size (8-bit FP weights)     104.72 KiB |\n",
            "| Float-32 Equivalent               421.73 KiB |\n",
            "| Compression Ratio of Memory       0.99       |\n",
            "| Number of MACs                    693 k      |\n",
            "| Ratio of MACs that are binarized  0.0012     |\n",
            "+----------------------------------------------+\n",
            "Epoch 1/10\n",
            "3750/3750 [==============================] - 53s 14ms/step - loss: 0.9927 - accuracy: 0.7562\n",
            "Epoch 2/10\n",
            "3750/3750 [==============================] - 52s 14ms/step - loss: 0.7886 - accuracy: 0.8427\n",
            "Epoch 3/10\n",
            "3750/3750 [==============================] - 52s 14ms/step - loss: 0.7563 - accuracy: 0.8605\n",
            "Epoch 4/10\n",
            "3750/3750 [==============================] - 52s 14ms/step - loss: 0.7381 - accuracy: 0.8708\n",
            "Epoch 5/10\n",
            "3750/3750 [==============================] - 53s 14ms/step - loss: 0.7185 - accuracy: 0.8794\n",
            "Epoch 6/10\n",
            "3750/3750 [==============================] - 52s 14ms/step - loss: 0.7068 - accuracy: 0.8870\n",
            "Epoch 7/10\n",
            "3750/3750 [==============================] - 53s 14ms/step - loss: 0.6958 - accuracy: 0.8928\n",
            "Epoch 8/10\n",
            "3750/3750 [==============================] - 53s 14ms/step - loss: 0.6865 - accuracy: 0.8956\n",
            "Epoch 9/10\n",
            "3750/3750 [==============================] - 53s 14ms/step - loss: 0.6854 - accuracy: 0.8971\n",
            "Epoch 10/10\n",
            "3750/3750 [==============================] - 52s 14ms/step - loss: 0.6820 - accuracy: 0.9019\n",
            "313/313 [==============================] - 4s 12ms/step - loss: 0.5337 - accuracy: 0.9081\n"
          ],
          "name": "stdout"
        }
      ]
    },
    {
      "cell_type": "code",
      "metadata": {
        "colab": {
          "base_uri": "https://localhost:8080/"
        },
        "id": "-H310xjtI8Jb",
        "outputId": "eebd73f5-4e56-44fe-f637-ca7f356ef818"
      },
      "source": [
        "model6 = tf.keras.Sequential([\n",
        "    tf.keras.layers.Conv2D(6, (5,5), padding='same', activation=tf.nn.relu,\n",
        "                           input_shape=(28, 28, 1)),\n",
        "    tf.keras.layers.MaxPooling2D((2, 2), strides=2),\n",
        "    tf.keras.layers.Conv2D(16, (5,5), padding='same', activation=tf.nn.relu),\n",
        "    tf.keras.layers.MaxPooling2D((2, 2), strides=2),\n",
        "    tf.keras.layers.Flatten(),\n",
        "    tf.keras.layers.Dense(120, activation=tf.nn.relu),\n",
        "    tf.keras.layers.Dense(84, activation=tf.nn.relu),\n",
        "    #tf.keras.layers.Dense(10, activation=tf.nn.softmax),\n",
        "    tf.keras.layers.BatchNormalization(momentum=0.999, scale=False),\n",
        "    tf.keras.layers.Flatten(),\n",
        "    lq.layers.QuantDense(10, use_bias=False, **kwargs),\n",
        "    tf.keras.layers.BatchNormalization(momentum=0.999, scale=False),\n",
        "    tf.keras.layers.Activation(\"softmax\")\n",
        "])\n",
        "\n",
        "lq.models.summary(model6)\n",
        "\n",
        "model6.compile(optimizer='adam',\n",
        "              loss='sparse_categorical_crossentropy',\n",
        "              metrics=['accuracy'])\n",
        "trained_model6 = model6.fit(train_images, train_labels, batch_size=8, epochs=10)\n",
        "\n",
        "test_loss6, test_acc6 = model6.evaluate(test_images, test_labels)"
      ],
      "execution_count": null,
      "outputs": [
        {
          "output_type": "stream",
          "text": [
            "+sequential_6 stats-----------------------------------------------------------------------------------------+\n",
            "| Layer                   Input prec.           Outputs  # 1-bit  # 32-bit  Memory  1-bit MACs  32-bit MACs |\n",
            "|                               (bit)                        x 1       x 1    (kB)                          |\n",
            "+-----------------------------------------------------------------------------------------------------------+\n",
            "| conv2d_12                         -   (-1, 28, 28, 6)        0       156    0.61           0       117600 |\n",
            "| max_pooling2d_12                  -   (-1, 14, 14, 6)        0         0       0           0            0 |\n",
            "| conv2d_13                         -  (-1, 14, 14, 16)        0      2416    9.44           0       470400 |\n",
            "| max_pooling2d_13                  -    (-1, 7, 7, 16)        0         0       0           0            0 |\n",
            "| flatten_11                        -         (-1, 784)        0         0       0           0            0 |\n",
            "| dense_13                          -         (-1, 120)        0     94200  367.97           0        94080 |\n",
            "| dense_14                          -          (-1, 84)        0     10164   39.70           0        10080 |\n",
            "| batch_normalization_10            -          (-1, 84)        0       168    0.66           0            0 |\n",
            "| flatten_12                        -          (-1, 84)        0         0       0           0            0 |\n",
            "| quant_dense_5                     1          (-1, 10)      840         0    0.10         840            0 |\n",
            "| batch_normalization_11            -          (-1, 10)        0        20    0.08           0            0 |\n",
            "| activation_5                      -          (-1, 10)        0         0       0           ?            ? |\n",
            "+-----------------------------------------------------------------------------------------------------------+\n",
            "| Total                                                      840    107124  418.56         840       692160 |\n",
            "+-----------------------------------------------------------------------------------------------------------+\n",
            "+sequential_6 summary--------------------------+\n",
            "| Total params                      108 k      |\n",
            "| Trainable params                  108 k      |\n",
            "| Non-trainable params              188        |\n",
            "| Model size                        418.56 KiB |\n",
            "| Model size (8-bit FP weights)     104.72 KiB |\n",
            "| Float-32 Equivalent               421.73 KiB |\n",
            "| Compression Ratio of Memory       0.99       |\n",
            "| Number of MACs                    693 k      |\n",
            "| Ratio of MACs that are binarized  0.0012     |\n",
            "+----------------------------------------------+\n",
            "Epoch 1/10\n",
            "7500/7500 [==============================] - 71s 9ms/step - loss: 1.1607 - accuracy: 0.6942\n",
            "Epoch 2/10\n",
            "7500/7500 [==============================] - 70s 9ms/step - loss: 0.9799 - accuracy: 0.8073\n",
            "Epoch 3/10\n",
            "7500/7500 [==============================] - 70s 9ms/step - loss: 0.9483 - accuracy: 0.8297\n",
            "Epoch 4/10\n",
            "7500/7500 [==============================] - 70s 9ms/step - loss: 0.9321 - accuracy: 0.8406\n",
            "Epoch 5/10\n",
            "7500/7500 [==============================] - 70s 9ms/step - loss: 0.9273 - accuracy: 0.8460\n",
            "Epoch 6/10\n",
            "7500/7500 [==============================] - 70s 9ms/step - loss: 0.9152 - accuracy: 0.8515\n",
            "Epoch 7/10\n",
            "7500/7500 [==============================] - 70s 9ms/step - loss: 0.9097 - accuracy: 0.8560\n",
            "Epoch 8/10\n",
            "7500/7500 [==============================] - 70s 9ms/step - loss: 0.8989 - accuracy: 0.8636\n",
            "Epoch 9/10\n",
            "7500/7500 [==============================] - 70s 9ms/step - loss: 0.9079 - accuracy: 0.8575\n",
            "Epoch 10/10\n",
            "7500/7500 [==============================] - 69s 9ms/step - loss: 0.8973 - accuracy: 0.8672\n",
            "313/313 [==============================] - 4s 12ms/step - loss: 0.5815 - accuracy: 0.9032\n"
          ],
          "name": "stdout"
        }
      ]
    },
    {
      "cell_type": "code",
      "metadata": {
        "colab": {
          "base_uri": "https://localhost:8080/",
          "height": 325
        },
        "id": "P25doLHhXAVR",
        "outputId": "7a7e811a-c221-44e6-a49d-bfc4718a629b"
      },
      "source": [
        "# summarize history for accuracy\n",
        "plt.plot(trained_Lmodel.history['accuracy'])\n",
        "plt.plot(trained_model.history['accuracy'])\n",
        "plt.plot(trained_model2.history['accuracy'])\n",
        "plt.title('LeNet with/without binarization layer \\n(Dense = 10, Batch = 64, Epochs = 10, \\nunless otherwise stated)')\n",
        "plt.ylabel('Accuracy')\n",
        "plt.xlabel('Epoch')\n",
        "plt.legend(['LeNet',\n",
        "            'BinLayer(Dense=10)', \n",
        "            'BinLayer(Dense=20)'], loc='lower right')\n",
        "plt.show()"
      ],
      "execution_count": null,
      "outputs": [
        {
          "output_type": "display_data",
          "data": {
            "image/png": "[encoded data removed]",
            "text/plain": [
              "<Figure size 432x288 with 1 Axes>"
            ]
          },
          "metadata": {
            "tags": [],
            "needs_background": "light"
          }
        }
      ]
    },
    {
      "cell_type": "code",
      "metadata": {
        "colab": {
          "base_uri": "https://localhost:8080/",
          "height": 325
        },
        "id": "z7YuTv_7-dxL",
        "outputId": "e503a6f9-e994-4c9c-aa80-9c6347274456"
      },
      "source": [
        "# summarize history for accuracy\n",
        "plt.plot(trained_model3.history['accuracy'])\n",
        "plt.plot(trained_model4.history['accuracy'])\n",
        "plt.plot(trained_model5.history['accuracy'])\n",
        "plt.plot(trained_model6.history['accuracy'])\n",
        "plt.title('LeNet with binarization layer \\n(Dense = 10, Batch = 64, Epochs = 10, \\nunless otherwise stated)')\n",
        "plt.ylabel('Accuracy')\n",
        "plt.xlabel('Epoch')\n",
        "plt.legend(['BinLayer(Dense=40)',\n",
        "            'BinLayer(Dense=80)',\n",
        "            'BinLayer(Dense=10, Batch=16)',\n",
        "            'BinLayer(Dense=10, Batch=8)'], loc='lower right')\n",
        "plt.show()"
      ],
      "execution_count": null,
      "outputs": [
        {
          "output_type": "display_data",
          "data": {
            "image/png": "[encoded data removed]",
            "text/plain": [
              "<Figure size 432x288 with 1 Axes>"
            ]
          },
          "metadata": {
            "tags": [],
            "needs_background": "light"
          }
        }
      ]
    },
    {
      "cell_type": "markdown",
      "metadata": {
        "id": "SB7vtombiTRz"
      },
      "source": [
        "\n",
        "\n",
        "---\n",
        "\n",
        "**Binarization of 2 last layers:**"
      ]
    },
    {
      "cell_type": "markdown",
      "metadata": {
        "id": "aC_a2vQUiaWr"
      },
      "source": [
        "1. Layer size: 84, 10(last)\n",
        "\n",
        "   batch size: 64"
      ]
    },
    {
      "cell_type": "code",
      "metadata": {
        "colab": {
          "base_uri": "https://localhost:8080/"
        },
        "id": "8WA97csRik8f",
        "outputId": "4339780a-c65d-4509-b917-cccb3c502a39"
      },
      "source": [
        "model7 = tf.keras.Sequential([\n",
        "    tf.keras.layers.Conv2D(6, (5,5), padding='same', activation=tf.nn.relu,\n",
        "                           input_shape=(28, 28, 1)),\n",
        "    tf.keras.layers.MaxPooling2D((2, 2), strides=2),\n",
        "    tf.keras.layers.Conv2D(16, (5,5), padding='same', activation=tf.nn.relu),\n",
        "    tf.keras.layers.MaxPooling2D((2, 2), strides=2),\n",
        "    tf.keras.layers.Flatten(),\n",
        "    tf.keras.layers.Dense(120, activation=tf.nn.relu),\n",
        "    #tf.keras.layers.Dense(84, activation=tf.nn.relu),\n",
        "    #tf.keras.layers.Dense(10, activation=tf.nn.softmax),\n",
        "    tf.keras.layers.BatchNormalization(momentum=0.999, scale=False),\n",
        "    tf.keras.layers.Flatten(),\n",
        "    lq.layers.QuantDense(84, use_bias=False, **kwargs),\n",
        "    tf.keras.layers.BatchNormalization(momentum=0.999, scale=False),\n",
        "    lq.layers.QuantDense(10, use_bias=False, **kwargs),\n",
        "    tf.keras.layers.BatchNormalization(momentum=0.999, scale=False),\n",
        "    tf.keras.layers.Activation(\"softmax\")\n",
        "])\n",
        "\n",
        "lq.models.summary(model7)\n",
        "\n",
        "model7.compile(optimizer='adam',\n",
        "              loss='sparse_categorical_crossentropy',\n",
        "              metrics=['accuracy'])\n",
        "trained_model7 = model7.fit(train_images, train_labels, batch_size=64, epochs=10)\n",
        "\n",
        "test_loss7, test_acc7 = model7.evaluate(test_images, test_labels)"
      ],
      "execution_count": null,
      "outputs": [
        {
          "output_type": "stream",
          "text": [
            "+sequential_7 stats-----------------------------------------------------------------------------------------+\n",
            "| Layer                   Input prec.           Outputs  # 1-bit  # 32-bit  Memory  1-bit MACs  32-bit MACs |\n",
            "|                               (bit)                        x 1       x 1    (kB)                          |\n",
            "+-----------------------------------------------------------------------------------------------------------+\n",
            "| conv2d_14                         -   (-1, 28, 28, 6)        0       156    0.61           0       117600 |\n",
            "| max_pooling2d_14                  -   (-1, 14, 14, 6)        0         0       0           0            0 |\n",
            "| conv2d_15                         -  (-1, 14, 14, 16)        0      2416    9.44           0       470400 |\n",
            "| max_pooling2d_15                  -    (-1, 7, 7, 16)        0         0       0           0            0 |\n",
            "| flatten_13                        -         (-1, 784)        0         0       0           0            0 |\n",
            "| dense_15                          -         (-1, 120)        0     94200  367.97           0        94080 |\n",
            "| batch_normalization_12            -         (-1, 120)        0       240    0.94           0            0 |\n",
            "| flatten_14                        -         (-1, 120)        0         0       0           0            0 |\n",
            "| quant_dense_6                     1          (-1, 84)    10080         0    1.23       10080            0 |\n",
            "| batch_normalization_13            -          (-1, 84)        0       168    0.66           0            0 |\n",
            "| quant_dense_7                     1          (-1, 10)      840         0    0.10         840            0 |\n",
            "| batch_normalization_14            -          (-1, 10)        0        20    0.08           0            0 |\n",
            "| activation_6                      -          (-1, 10)        0         0       0           ?            ? |\n",
            "+-----------------------------------------------------------------------------------------------------------+\n",
            "| Total                                                    10920     97200  381.02       10920       682080 |\n",
            "+-----------------------------------------------------------------------------------------------------------+\n",
            "+sequential_7 summary--------------------------+\n",
            "| Total params                      108 k      |\n",
            "| Trainable params                  108 k      |\n",
            "| Non-trainable params              428        |\n",
            "| Model size                        381.02 KiB |\n",
            "| Model size (8-bit FP weights)     96.25 KiB  |\n",
            "| Float-32 Equivalent               422.34 KiB |\n",
            "| Compression Ratio of Memory       0.90       |\n",
            "| Number of MACs                    693 k      |\n",
            "| Ratio of MACs that are binarized  0.0158     |\n",
            "+----------------------------------------------+\n",
            "Epoch 1/10\n",
            "938/938 [==============================] - 41s 42ms/step - loss: 0.9262 - accuracy: 0.7705\n",
            "Epoch 2/10\n",
            "938/938 [==============================] - 40s 42ms/step - loss: 0.6297 - accuracy: 0.8771\n",
            "Epoch 3/10\n",
            "938/938 [==============================] - 40s 42ms/step - loss: 0.5914 - accuracy: 0.8924\n",
            "Epoch 4/10\n",
            "938/938 [==============================] - 40s 42ms/step - loss: 0.5730 - accuracy: 0.9001\n",
            "Epoch 5/10\n",
            "938/938 [==============================] - 40s 43ms/step - loss: 0.5626 - accuracy: 0.9035\n",
            "Epoch 6/10\n",
            "938/938 [==============================] - 40s 42ms/step - loss: 0.5485 - accuracy: 0.9103\n",
            "Epoch 7/10\n",
            "938/938 [==============================] - 40s 42ms/step - loss: 0.5457 - accuracy: 0.9109\n",
            "Epoch 8/10\n",
            "938/938 [==============================] - 40s 42ms/step - loss: 0.5334 - accuracy: 0.9177\n",
            "Epoch 9/10\n",
            "938/938 [==============================] - 40s 42ms/step - loss: 0.5285 - accuracy: 0.9200\n",
            "Epoch 10/10\n",
            "938/938 [==============================] - 40s 42ms/step - loss: 0.5299 - accuracy: 0.9200\n",
            "313/313 [==============================] - 4s 12ms/step - loss: 0.5923 - accuracy: 0.8887\n"
          ],
          "name": "stdout"
        }
      ]
    },
    {
      "cell_type": "markdown",
      "metadata": {
        "id": "1qb95BhJkKj6"
      },
      "source": [
        "2. Layer size: 84, 40(last)\n",
        "\n",
        "   batch size: 64"
      ]
    },
    {
      "cell_type": "code",
      "metadata": {
        "colab": {
          "base_uri": "https://localhost:8080/"
        },
        "id": "ft6WZKmlkKDq",
        "outputId": "3c1bd61a-788e-4b3d-962e-4316b1ee11a6"
      },
      "source": [
        "model8 = tf.keras.Sequential([\n",
        "    tf.keras.layers.Conv2D(6, (5,5), padding='same', activation=tf.nn.relu,\n",
        "                           input_shape=(28, 28, 1)),\n",
        "    tf.keras.layers.MaxPooling2D((2, 2), strides=2),\n",
        "    tf.keras.layers.Conv2D(16, (5,5), padding='same', activation=tf.nn.relu),\n",
        "    tf.keras.layers.MaxPooling2D((2, 2), strides=2),\n",
        "    tf.keras.layers.Flatten(),\n",
        "    tf.keras.layers.Dense(120, activation=tf.nn.relu),\n",
        "    #tf.keras.layers.Dense(84, activation=tf.nn.relu),\n",
        "    #tf.keras.layers.Dense(10, activation=tf.nn.softmax),\n",
        "    tf.keras.layers.BatchNormalization(momentum=0.999, scale=False),\n",
        "    tf.keras.layers.Flatten(),\n",
        "    lq.layers.QuantDense(84, use_bias=False, **kwargs),\n",
        "    tf.keras.layers.BatchNormalization(momentum=0.999, scale=False),\n",
        "    lq.layers.QuantDense(40, use_bias=False, **kwargs),\n",
        "    tf.keras.layers.BatchNormalization(momentum=0.999, scale=False),\n",
        "    tf.keras.layers.Activation(\"softmax\")\n",
        "])\n",
        "\n",
        "lq.models.summary(model8)\n",
        "\n",
        "model8.compile(optimizer='adam',\n",
        "              loss='sparse_categorical_crossentropy',\n",
        "              metrics=['accuracy'])\n",
        "trained_model8 = model8.fit(train_images, train_labels, batch_size=64, epochs=10)\n",
        "\n",
        "test_loss8, test_acc8 = model8.evaluate(test_images, test_labels)"
      ],
      "execution_count": null,
      "outputs": [
        {
          "output_type": "stream",
          "text": [
            "+sequential_8 stats-----------------------------------------------------------------------------------------+\n",
            "| Layer                   Input prec.           Outputs  # 1-bit  # 32-bit  Memory  1-bit MACs  32-bit MACs |\n",
            "|                               (bit)                        x 1       x 1    (kB)                          |\n",
            "+-----------------------------------------------------------------------------------------------------------+\n",
            "| conv2d_16                         -   (-1, 28, 28, 6)        0       156    0.61           0       117600 |\n",
            "| max_pooling2d_16                  -   (-1, 14, 14, 6)        0         0       0           0            0 |\n",
            "| conv2d_17                         -  (-1, 14, 14, 16)        0      2416    9.44           0       470400 |\n",
            "| max_pooling2d_17                  -    (-1, 7, 7, 16)        0         0       0           0            0 |\n",
            "| flatten_15                        -         (-1, 784)        0         0       0           0            0 |\n",
            "| dense_16                          -         (-1, 120)        0     94200  367.97           0        94080 |\n",
            "| batch_normalization_15            -         (-1, 120)        0       240    0.94           0            0 |\n",
            "| flatten_16                        -         (-1, 120)        0         0       0           0            0 |\n",
            "| quant_dense_8                     1          (-1, 84)    10080         0    1.23       10080            0 |\n",
            "| batch_normalization_16            -          (-1, 84)        0       168    0.66           0            0 |\n",
            "| quant_dense_9                     1          (-1, 40)     3360         0    0.41        3360            0 |\n",
            "| batch_normalization_17            -          (-1, 40)        0        80    0.31           0            0 |\n",
            "| activation_7                      -          (-1, 40)        0         0       0           ?            ? |\n",
            "+-----------------------------------------------------------------------------------------------------------+\n",
            "| Total                                                    13440     97260  381.56       13440       682080 |\n",
            "+-----------------------------------------------------------------------------------------------------------+\n",
            "+sequential_8 summary--------------------------+\n",
            "| Total params                      111 k      |\n",
            "| Trainable params                  110 k      |\n",
            "| Non-trainable params              488        |\n",
            "| Model size                        381.56 KiB |\n",
            "| Model size (8-bit FP weights)     96.62 KiB  |\n",
            "| Float-32 Equivalent               432.42 KiB |\n",
            "| Compression Ratio of Memory       0.88       |\n",
            "| Number of MACs                    696 k      |\n",
            "| Ratio of MACs that are binarized  0.0193     |\n",
            "+----------------------------------------------+\n",
            "Epoch 1/10\n",
            "938/938 [==============================] - 40s 42ms/step - loss: 1.7785 - accuracy: 0.7157\n",
            "Epoch 2/10\n",
            "938/938 [==============================] - 39s 42ms/step - loss: 0.9199 - accuracy: 0.8777\n",
            "Epoch 3/10\n",
            "938/938 [==============================] - 39s 42ms/step - loss: 0.7226 - accuracy: 0.8928\n",
            "Epoch 4/10\n",
            "938/938 [==============================] - 39s 42ms/step - loss: 0.6413 - accuracy: 0.9010\n",
            "Epoch 5/10\n",
            "938/938 [==============================] - 39s 42ms/step - loss: 0.6004 - accuracy: 0.9055\n",
            "Epoch 6/10\n",
            "938/938 [==============================] - 39s 42ms/step - loss: 0.5773 - accuracy: 0.9110\n",
            "Epoch 7/10\n",
            "938/938 [==============================] - 39s 42ms/step - loss: 0.5540 - accuracy: 0.9149\n",
            "Epoch 8/10\n",
            "938/938 [==============================] - 40s 42ms/step - loss: 0.5413 - accuracy: 0.9182\n",
            "Epoch 9/10\n",
            "938/938 [==============================] - 39s 42ms/step - loss: 0.5377 - accuracy: 0.9189\n",
            "Epoch 10/10\n",
            "938/938 [==============================] - 39s 42ms/step - loss: 0.5294 - accuracy: 0.9211\n",
            "313/313 [==============================] - 4s 12ms/step - loss: 0.5517 - accuracy: 0.8968\n"
          ],
          "name": "stdout"
        }
      ]
    },
    {
      "cell_type": "markdown",
      "metadata": {
        "id": "Jb0YXFo6kUxy"
      },
      "source": [
        "3. Layer size: 84, 10(last)\n",
        "\n",
        "   batch size: 16"
      ]
    },
    {
      "cell_type": "code",
      "metadata": {
        "colab": {
          "base_uri": "https://localhost:8080/"
        },
        "id": "Aov89LmkkYVf",
        "outputId": "cde2f3a2-ab0f-40fe-d890-b0edf0a38a41"
      },
      "source": [
        "model9 = tf.keras.Sequential([\n",
        "    tf.keras.layers.Conv2D(6, (5,5), padding='same', activation=tf.nn.relu,\n",
        "                           input_shape=(28, 28, 1)),\n",
        "    tf.keras.layers.MaxPooling2D((2, 2), strides=2),\n",
        "    tf.keras.layers.Conv2D(16, (5,5), padding='same', activation=tf.nn.relu),\n",
        "    tf.keras.layers.MaxPooling2D((2, 2), strides=2),\n",
        "    tf.keras.layers.Flatten(),\n",
        "    tf.keras.layers.Dense(120, activation=tf.nn.relu),\n",
        "    #tf.keras.layers.Dense(84, activation=tf.nn.relu),\n",
        "    #tf.keras.layers.Dense(10, activation=tf.nn.softmax),\n",
        "    tf.keras.layers.BatchNormalization(momentum=0.999, scale=False),\n",
        "    tf.keras.layers.Flatten(),\n",
        "    lq.layers.QuantDense(84, use_bias=False, **kwargs),\n",
        "    tf.keras.layers.BatchNormalization(momentum=0.999, scale=False),\n",
        "    lq.layers.QuantDense(10, use_bias=False, **kwargs),\n",
        "    tf.keras.layers.BatchNormalization(momentum=0.999, scale=False),\n",
        "    tf.keras.layers.Activation(\"softmax\")\n",
        "])\n",
        "\n",
        "lq.models.summary(model9)\n",
        "\n",
        "model9.compile(optimizer='adam',\n",
        "              loss='sparse_categorical_crossentropy',\n",
        "              metrics=['accuracy'])\n",
        "trained_model9 = model9.fit(train_images, train_labels, batch_size=16, epochs=10)\n",
        "\n",
        "test_loss9, test_acc9 = model9.evaluate(test_images, test_labels)"
      ],
      "execution_count": null,
      "outputs": [
        {
          "output_type": "stream",
          "text": [
            "+sequential_9 stats-----------------------------------------------------------------------------------------+\n",
            "| Layer                   Input prec.           Outputs  # 1-bit  # 32-bit  Memory  1-bit MACs  32-bit MACs |\n",
            "|                               (bit)                        x 1       x 1    (kB)                          |\n",
            "+-----------------------------------------------------------------------------------------------------------+\n",
            "| conv2d_18                         -   (-1, 28, 28, 6)        0       156    0.61           0       117600 |\n",
            "| max_pooling2d_18                  -   (-1, 14, 14, 6)        0         0       0           0            0 |\n",
            "| conv2d_19                         -  (-1, 14, 14, 16)        0      2416    9.44           0       470400 |\n",
            "| max_pooling2d_19                  -    (-1, 7, 7, 16)        0         0       0           0            0 |\n",
            "| flatten_17                        -         (-1, 784)        0         0       0           0            0 |\n",
            "| dense_17                          -         (-1, 120)        0     94200  367.97           0        94080 |\n",
            "| batch_normalization_18            -         (-1, 120)        0       240    0.94           0            0 |\n",
            "| flatten_18                        -         (-1, 120)        0         0       0           0            0 |\n",
            "| quant_dense_10                    1          (-1, 84)    10080         0    1.23       10080            0 |\n",
            "| batch_normalization_19            -          (-1, 84)        0       168    0.66           0            0 |\n",
            "| quant_dense_11                    1          (-1, 10)      840         0    0.10         840            0 |\n",
            "| batch_normalization_20            -          (-1, 10)        0        20    0.08           0            0 |\n",
            "| activation_8                      -          (-1, 10)        0         0       0           ?            ? |\n",
            "+-----------------------------------------------------------------------------------------------------------+\n",
            "| Total                                                    10920     97200  381.02       10920       682080 |\n",
            "+-----------------------------------------------------------------------------------------------------------+\n",
            "+sequential_9 summary--------------------------+\n",
            "| Total params                      108 k      |\n",
            "| Trainable params                  108 k      |\n",
            "| Non-trainable params              428        |\n",
            "| Model size                        381.02 KiB |\n",
            "| Model size (8-bit FP weights)     96.25 KiB  |\n",
            "| Float-32 Equivalent               422.34 KiB |\n",
            "| Compression Ratio of Memory       0.90       |\n",
            "| Number of MACs                    693 k      |\n",
            "| Ratio of MACs that are binarized  0.0158     |\n",
            "+----------------------------------------------+\n",
            "Epoch 1/10\n",
            "3750/3750 [==============================] - 52s 14ms/step - loss: 1.0090 - accuracy: 0.7405\n",
            "Epoch 2/10\n",
            "3750/3750 [==============================] - 51s 14ms/step - loss: 0.8003 - accuracy: 0.8325\n",
            "Epoch 3/10\n",
            "3750/3750 [==============================] - 51s 14ms/step - loss: 0.7759 - accuracy: 0.8442\n",
            "Epoch 4/10\n",
            "3750/3750 [==============================] - 51s 14ms/step - loss: 0.7627 - accuracy: 0.8517\n",
            "Epoch 5/10\n",
            "3750/3750 [==============================] - 51s 14ms/step - loss: 0.7500 - accuracy: 0.8567\n",
            "Epoch 6/10\n",
            "3750/3750 [==============================] - 51s 14ms/step - loss: 0.7458 - accuracy: 0.8601\n",
            "Epoch 7/10\n",
            "3750/3750 [==============================] - 51s 14ms/step - loss: 0.7365 - accuracy: 0.8639\n",
            "Epoch 8/10\n",
            "3750/3750 [==============================] - 52s 14ms/step - loss: 0.7372 - accuracy: 0.8651\n",
            "Epoch 9/10\n",
            "3750/3750 [==============================] - 51s 14ms/step - loss: 0.7247 - accuracy: 0.8705\n",
            "Epoch 10/10\n",
            "3750/3750 [==============================] - 51s 14ms/step - loss: 0.7147 - accuracy: 0.8742\n",
            "313/313 [==============================] - 4s 11ms/step - loss: 0.5141 - accuracy: 0.9052\n"
          ],
          "name": "stdout"
        }
      ]
    },
    {
      "cell_type": "markdown",
      "metadata": {
        "id": "L0-eCzP3Ls9u"
      },
      "source": [
        "5. Layer size: 84, 10(last)\n",
        "\n",
        "   batch size: 8"
      ]
    },
    {
      "cell_type": "code",
      "metadata": {
        "colab": {
          "base_uri": "https://localhost:8080/"
        },
        "id": "STwY4hL6LzZw",
        "outputId": "9b599e34-7686-4448-f28c-68568434dbd2"
      },
      "source": [
        "model10 = tf.keras.Sequential([\n",
        "    tf.keras.layers.Conv2D(6, (5,5), padding='same', activation=tf.nn.relu,\n",
        "                           input_shape=(28, 28, 1)),\n",
        "    tf.keras.layers.MaxPooling2D((2, 2), strides=2),\n",
        "    tf.keras.layers.Conv2D(16, (5,5), padding='same', activation=tf.nn.relu),\n",
        "    tf.keras.layers.MaxPooling2D((2, 2), strides=2),\n",
        "    tf.keras.layers.Flatten(),\n",
        "    tf.keras.layers.Dense(120, activation=tf.nn.relu),\n",
        "    #tf.keras.layers.Dense(84, activation=tf.nn.relu),\n",
        "    #tf.keras.layers.Dense(10, activation=tf.nn.softmax),\n",
        "    tf.keras.layers.BatchNormalization(momentum=0.999, scale=False),\n",
        "    tf.keras.layers.Flatten(),\n",
        "    lq.layers.QuantDense(84, use_bias=False, **kwargs),\n",
        "    tf.keras.layers.BatchNormalization(momentum=0.999, scale=False),\n",
        "    lq.layers.QuantDense(10, use_bias=False, **kwargs),\n",
        "    tf.keras.layers.BatchNormalization(momentum=0.999, scale=False),\n",
        "    tf.keras.layers.Activation(\"softmax\")\n",
        "])\n",
        "\n",
        "lq.models.summary(model10)\n",
        "\n",
        "model10.compile(optimizer='adam',\n",
        "              loss='sparse_categorical_crossentropy',\n",
        "              metrics=['accuracy'])\n",
        "trained_model10 = model10.fit(train_images, train_labels, batch_size=8, epochs=10)\n",
        "\n",
        "test_loss10, test_acc10 = model10.evaluate(test_images, test_labels)"
      ],
      "execution_count": null,
      "outputs": [
        {
          "output_type": "stream",
          "text": [
            "+sequential_10 stats----------------------------------------------------------------------------------------+\n",
            "| Layer                   Input prec.           Outputs  # 1-bit  # 32-bit  Memory  1-bit MACs  32-bit MACs |\n",
            "|                               (bit)                        x 1       x 1    (kB)                          |\n",
            "+-----------------------------------------------------------------------------------------------------------+\n",
            "| conv2d_20                         -   (-1, 28, 28, 6)        0       156    0.61           0       117600 |\n",
            "| max_pooling2d_20                  -   (-1, 14, 14, 6)        0         0       0           0            0 |\n",
            "| conv2d_21                         -  (-1, 14, 14, 16)        0      2416    9.44           0       470400 |\n",
            "| max_pooling2d_21                  -    (-1, 7, 7, 16)        0         0       0           0            0 |\n",
            "| flatten_19                        -         (-1, 784)        0         0       0           0            0 |\n",
            "| dense_18                          -         (-1, 120)        0     94200  367.97           0        94080 |\n",
            "| batch_normalization_21            -         (-1, 120)        0       240    0.94           0            0 |\n",
            "| flatten_20                        -         (-1, 120)        0         0       0           0            0 |\n",
            "| quant_dense_12                    1          (-1, 84)    10080         0    1.23       10080            0 |\n",
            "| batch_normalization_22            -          (-1, 84)        0       168    0.66           0            0 |\n",
            "| quant_dense_13                    1          (-1, 10)      840         0    0.10         840            0 |\n",
            "| batch_normalization_23            -          (-1, 10)        0        20    0.08           0            0 |\n",
            "| activation_9                      -          (-1, 10)        0         0       0           ?            ? |\n",
            "+-----------------------------------------------------------------------------------------------------------+\n",
            "| Total                                                    10920     97200  381.02       10920       682080 |\n",
            "+-----------------------------------------------------------------------------------------------------------+\n",
            "+sequential_10 summary-------------------------+\n",
            "| Total params                      108 k      |\n",
            "| Trainable params                  108 k      |\n",
            "| Non-trainable params              428        |\n",
            "| Model size                        381.02 KiB |\n",
            "| Model size (8-bit FP weights)     96.25 KiB  |\n",
            "| Float-32 Equivalent               422.34 KiB |\n",
            "| Compression Ratio of Memory       0.90       |\n",
            "| Number of MACs                    693 k      |\n",
            "| Ratio of MACs that are binarized  0.0158     |\n",
            "+----------------------------------------------+\n",
            "Epoch 1/10\n",
            "7500/7500 [==============================] - 73s 10ms/step - loss: 1.1821 - accuracy: 0.6808\n",
            "Epoch 2/10\n",
            "7500/7500 [==============================] - 72s 10ms/step - loss: 1.0129 - accuracy: 0.7761\n",
            "Epoch 3/10\n",
            "7500/7500 [==============================] - 73s 10ms/step - loss: 0.9742 - accuracy: 0.7985\n",
            "Epoch 4/10\n",
            "7500/7500 [==============================] - 72s 10ms/step - loss: 0.9719 - accuracy: 0.8050\n",
            "Epoch 5/10\n",
            "7500/7500 [==============================] - 73s 10ms/step - loss: 0.9584 - accuracy: 0.8092\n",
            "Epoch 6/10\n",
            "7500/7500 [==============================] - 72s 10ms/step - loss: 0.9464 - accuracy: 0.8171\n",
            "Epoch 7/10\n",
            "7500/7500 [==============================] - 71s 10ms/step - loss: 0.9502 - accuracy: 0.8170\n",
            "Epoch 8/10\n",
            "7500/7500 [==============================] - 71s 9ms/step - loss: 0.9427 - accuracy: 0.8234\n",
            "Epoch 9/10\n",
            "7500/7500 [==============================] - 71s 10ms/step - loss: 0.9360 - accuracy: 0.8262\n",
            "Epoch 10/10\n",
            "7500/7500 [==============================] - 71s 10ms/step - loss: 0.9446 - accuracy: 0.8190\n",
            "313/313 [==============================] - 3s 10ms/step - loss: 0.5618 - accuracy: 0.8891\n"
          ],
          "name": "stdout"
        }
      ]
    },
    {
      "cell_type": "markdown",
      "metadata": {
        "id": "l-B6HvGNkZJk"
      },
      "source": [
        "6. Layer size: 40, 10(last)\n",
        "\n",
        "   batch size: 64"
      ]
    },
    {
      "cell_type": "code",
      "metadata": {
        "colab": {
          "base_uri": "https://localhost:8080/"
        },
        "id": "SJZU0i9ykgJy",
        "outputId": "66bd4859-ee26-426b-c38e-e53726441d96"
      },
      "source": [
        "model11 = tf.keras.Sequential([\n",
        "    tf.keras.layers.Conv2D(6, (5,5), padding='same', activation=tf.nn.relu,\n",
        "                           input_shape=(28, 28, 1)),\n",
        "    tf.keras.layers.MaxPooling2D((2, 2), strides=2),\n",
        "    tf.keras.layers.Conv2D(16, (5,5), padding='same', activation=tf.nn.relu),\n",
        "    tf.keras.layers.MaxPooling2D((2, 2), strides=2),\n",
        "    tf.keras.layers.Flatten(),\n",
        "    tf.keras.layers.Dense(120, activation=tf.nn.relu),\n",
        "    #tf.keras.layers.Dense(84, activation=tf.nn.relu),\n",
        "    #tf.keras.layers.Dense(10, activation=tf.nn.softmax),\n",
        "    tf.keras.layers.BatchNormalization(momentum=0.999, scale=False),\n",
        "    tf.keras.layers.Flatten(),\n",
        "    lq.layers.QuantDense(40, use_bias=False, **kwargs),\n",
        "    tf.keras.layers.BatchNormalization(momentum=0.999, scale=False),\n",
        "    lq.layers.QuantDense(10, use_bias=False, **kwargs),\n",
        "    tf.keras.layers.BatchNormalization(momentum=0.999, scale=False),\n",
        "    tf.keras.layers.Activation(\"softmax\")\n",
        "])\n",
        "\n",
        "lq.models.summary(model10)\n",
        "\n",
        "model11.compile(optimizer='adam',\n",
        "              loss='sparse_categorical_crossentropy',\n",
        "              metrics=['accuracy'])\n",
        "trained_model11 = model11.fit(train_images, train_labels, batch_size=64, epochs=10)\n",
        "\n",
        "test_loss11, test_acc11 = model11.evaluate(test_images, test_labels)"
      ],
      "execution_count": null,
      "outputs": [
        {
          "output_type": "stream",
          "text": [
            "+sequential_10 stats----------------------------------------------------------------------------------------+\n",
            "| Layer                   Input prec.           Outputs  # 1-bit  # 32-bit  Memory  1-bit MACs  32-bit MACs |\n",
            "|                               (bit)                        x 1       x 1    (kB)                          |\n",
            "+-----------------------------------------------------------------------------------------------------------+\n",
            "| conv2d_20                         -   (-1, 28, 28, 6)        0       156    0.61           0       117600 |\n",
            "| max_pooling2d_20                  -   (-1, 14, 14, 6)        0         0       0           0            0 |\n",
            "| conv2d_21                         -  (-1, 14, 14, 16)        0      2416    9.44           0       470400 |\n",
            "| max_pooling2d_21                  -    (-1, 7, 7, 16)        0         0       0           0            0 |\n",
            "| flatten_19                        -         (-1, 784)        0         0       0           0            0 |\n",
            "| dense_18                          -         (-1, 120)        0     94200  367.97           0        94080 |\n",
            "| batch_normalization_21            -         (-1, 120)        0       240    0.94           0            0 |\n",
            "| flatten_20                        -         (-1, 120)        0         0       0           0            0 |\n",
            "| quant_dense_12                    1          (-1, 84)    10080         0    1.23       10080            0 |\n",
            "| batch_normalization_22            -          (-1, 84)        0       168    0.66           0            0 |\n",
            "| quant_dense_13                    1          (-1, 10)      840         0    0.10         840            0 |\n",
            "| batch_normalization_23            -          (-1, 10)        0        20    0.08           0            0 |\n",
            "| activation_9                      -          (-1, 10)        0         0       0           ?            ? |\n",
            "+-----------------------------------------------------------------------------------------------------------+\n",
            "| Total                                                    10920     97200  381.02       10920       682080 |\n",
            "+-----------------------------------------------------------------------------------------------------------+\n",
            "+sequential_10 summary-------------------------+\n",
            "| Total params                      108 k      |\n",
            "| Trainable params                  108 k      |\n",
            "| Non-trainable params              428        |\n",
            "| Model size                        381.02 KiB |\n",
            "| Model size (8-bit FP weights)     96.25 KiB  |\n",
            "| Float-32 Equivalent               422.34 KiB |\n",
            "| Compression Ratio of Memory       0.90       |\n",
            "| Number of MACs                    693 k      |\n",
            "| Ratio of MACs that are binarized  0.0158     |\n",
            "+----------------------------------------------+\n",
            "Epoch 1/10\n",
            "938/938 [==============================] - 39s 41ms/step - loss: 0.9544 - accuracy: 0.7601\n",
            "Epoch 2/10\n",
            "938/938 [==============================] - 39s 42ms/step - loss: 0.6550 - accuracy: 0.8725\n",
            "Epoch 3/10\n",
            "938/938 [==============================] - 39s 42ms/step - loss: 0.6144 - accuracy: 0.8899\n",
            "Epoch 4/10\n",
            "938/938 [==============================] - 39s 42ms/step - loss: 0.6043 - accuracy: 0.8925\n",
            "Epoch 5/10\n",
            "938/938 [==============================] - 39s 42ms/step - loss: 0.5896 - accuracy: 0.8999\n",
            "Epoch 6/10\n",
            "938/938 [==============================] - 39s 42ms/step - loss: 0.5779 - accuracy: 0.9045\n",
            "Epoch 7/10\n",
            "938/938 [==============================] - 39s 42ms/step - loss: 0.5745 - accuracy: 0.9048\n",
            "Epoch 8/10\n",
            "938/938 [==============================] - 39s 42ms/step - loss: 0.5644 - accuracy: 0.9104\n",
            "Epoch 9/10\n",
            "938/938 [==============================] - 39s 42ms/step - loss: 0.5609 - accuracy: 0.9107\n",
            "Epoch 10/10\n",
            "938/938 [==============================] - 39s 42ms/step - loss: 0.5519 - accuracy: 0.9145\n",
            "313/313 [==============================] - 4s 11ms/step - loss: 0.5820 - accuracy: 0.8955\n"
          ],
          "name": "stdout"
        }
      ]
    },
    {
      "cell_type": "markdown",
      "metadata": {
        "id": "tdpqXsPxqEWz"
      },
      "source": [
        "7. Layer size: 40, 40(last)\n",
        "\n",
        "   batch size: 64"
      ]
    },
    {
      "cell_type": "code",
      "metadata": {
        "colab": {
          "base_uri": "https://localhost:8080/"
        },
        "id": "tQ71K4BRqFgG",
        "outputId": "8c75feef-725a-4465-c480-89427809ee80"
      },
      "source": [
        "model12 = tf.keras.Sequential([\n",
        "    tf.keras.layers.Conv2D(6, (5,5), padding='same', activation=tf.nn.relu,\n",
        "                           input_shape=(28, 28, 1)),\n",
        "    tf.keras.layers.MaxPooling2D((2, 2), strides=2),\n",
        "    tf.keras.layers.Conv2D(16, (5,5), padding='same', activation=tf.nn.relu),\n",
        "    tf.keras.layers.MaxPooling2D((2, 2), strides=2),\n",
        "    tf.keras.layers.Flatten(),\n",
        "    tf.keras.layers.Dense(120, activation=tf.nn.relu),\n",
        "    #tf.keras.layers.Dense(84, activation=tf.nn.relu),\n",
        "    #tf.keras.layers.Dense(10, activation=tf.nn.softmax),\n",
        "    tf.keras.layers.BatchNormalization(momentum=0.999, scale=False),\n",
        "    tf.keras.layers.Flatten(),\n",
        "    lq.layers.QuantDense(40, use_bias=False, **kwargs),\n",
        "    tf.keras.layers.BatchNormalization(momentum=0.999, scale=False),\n",
        "    lq.layers.QuantDense(40, use_bias=False, **kwargs),\n",
        "    tf.keras.layers.BatchNormalization(momentum=0.999, scale=False),\n",
        "    tf.keras.layers.Activation(\"softmax\")\n",
        "])\n",
        "\n",
        "lq.models.summary(model12)\n",
        "\n",
        "model12.compile(optimizer='adam',\n",
        "              loss='sparse_categorical_crossentropy',\n",
        "              metrics=['accuracy'])\n",
        "trained_model12 = model12.fit(train_images, train_labels, batch_size=64, epochs=10)\n",
        "\n",
        "test_loss12, test_acc12 = model12.evaluate(test_images, test_labels)"
      ],
      "execution_count": null,
      "outputs": [
        {
          "output_type": "stream",
          "text": [
            "+sequential_12 stats----------------------------------------------------------------------------------------+\n",
            "| Layer                   Input prec.           Outputs  # 1-bit  # 32-bit  Memory  1-bit MACs  32-bit MACs |\n",
            "|                               (bit)                        x 1       x 1    (kB)                          |\n",
            "+-----------------------------------------------------------------------------------------------------------+\n",
            "| conv2d_24                         -   (-1, 28, 28, 6)        0       156    0.61           0       117600 |\n",
            "| max_pooling2d_24                  -   (-1, 14, 14, 6)        0         0       0           0            0 |\n",
            "| conv2d_25                         -  (-1, 14, 14, 16)        0      2416    9.44           0       470400 |\n",
            "| max_pooling2d_25                  -    (-1, 7, 7, 16)        0         0       0           0            0 |\n",
            "| flatten_23                        -         (-1, 784)        0         0       0           0            0 |\n",
            "| dense_20                          -         (-1, 120)        0     94200  367.97           0        94080 |\n",
            "| batch_normalization_27            -         (-1, 120)        0       240    0.94           0            0 |\n",
            "| flatten_24                        -         (-1, 120)        0         0       0           0            0 |\n",
            "| quant_dense_16                    1          (-1, 40)     4800         0    0.59        4800            0 |\n",
            "| batch_normalization_28            -          (-1, 40)        0        80    0.31           0            0 |\n",
            "| quant_dense_17                    1          (-1, 40)     1600         0    0.20        1600            0 |\n",
            "| batch_normalization_29            -          (-1, 40)        0        80    0.31           0            0 |\n",
            "| activation_11                     -          (-1, 40)        0         0       0           ?            ? |\n",
            "+-----------------------------------------------------------------------------------------------------------+\n",
            "| Total                                                     6400     97172  380.36        6400       682080 |\n",
            "+-----------------------------------------------------------------------------------------------------------+\n",
            "+sequential_12 summary-------------------------+\n",
            "| Total params                      104 k      |\n",
            "| Trainable params                  103 k      |\n",
            "| Non-trainable params              400        |\n",
            "| Model size                        380.36 KiB |\n",
            "| Model size (8-bit FP weights)     95.68 KiB  |\n",
            "| Float-32 Equivalent               404.58 KiB |\n",
            "| Compression Ratio of Memory       0.94       |\n",
            "| Number of MACs                    688 k      |\n",
            "| Ratio of MACs that are binarized  0.0093     |\n",
            "+----------------------------------------------+\n",
            "Epoch 1/10\n",
            "938/938 [==============================] - 41s 42ms/step - loss: 1.8809 - accuracy: 0.6820\n",
            "Epoch 2/10\n",
            "938/938 [==============================] - 40s 43ms/step - loss: 0.9519 - accuracy: 0.8719\n",
            "Epoch 3/10\n",
            "938/938 [==============================] - 40s 43ms/step - loss: 0.7500 - accuracy: 0.8876\n",
            "Epoch 4/10\n",
            "938/938 [==============================] - 40s 43ms/step - loss: 0.6717 - accuracy: 0.8952\n",
            "Epoch 5/10\n",
            "938/938 [==============================] - 40s 43ms/step - loss: 0.6284 - accuracy: 0.9003\n",
            "Epoch 6/10\n",
            "938/938 [==============================] - 40s 43ms/step - loss: 0.6031 - accuracy: 0.9054\n",
            "Epoch 7/10\n",
            "938/938 [==============================] - 40s 43ms/step - loss: 0.5886 - accuracy: 0.9079\n",
            "Epoch 8/10\n",
            "938/938 [==============================] - 40s 43ms/step - loss: 0.5745 - accuracy: 0.9123\n",
            "Epoch 9/10\n",
            "938/938 [==============================] - 40s 43ms/step - loss: 0.5628 - accuracy: 0.9145\n",
            "Epoch 10/10\n",
            "938/938 [==============================] - 41s 43ms/step - loss: 0.5611 - accuracy: 0.9130\n",
            "313/313 [==============================] - 3s 9ms/step - loss: 0.6304 - accuracy: 0.8887\n"
          ],
          "name": "stdout"
        }
      ]
    },
    {
      "cell_type": "markdown",
      "metadata": {
        "id": "zXF4wtHmMX90"
      },
      "source": [
        "8. Layer size: 40, 10\n",
        "\n",
        "   batch size: 16 "
      ]
    },
    {
      "cell_type": "code",
      "metadata": {
        "colab": {
          "base_uri": "https://localhost:8080/"
        },
        "id": "DdtLT-26MiQJ",
        "outputId": "c1a5292e-b826-4924-e7a4-2c1bfe6e044a"
      },
      "source": [
        "model13 = tf.keras.Sequential([\n",
        "    tf.keras.layers.Conv2D(6, (5,5), padding='same', activation=tf.nn.relu,\n",
        "                           input_shape=(28, 28, 1)),\n",
        "    tf.keras.layers.MaxPooling2D((2, 2), strides=2),\n",
        "    tf.keras.layers.Conv2D(16, (5,5), padding='same', activation=tf.nn.relu),\n",
        "    tf.keras.layers.MaxPooling2D((2, 2), strides=2),\n",
        "    tf.keras.layers.Flatten(),\n",
        "    tf.keras.layers.Dense(120, activation=tf.nn.relu),\n",
        "    #tf.keras.layers.Dense(84, activation=tf.nn.relu),\n",
        "    #tf.keras.layers.Dense(10, activation=tf.nn.softmax),\n",
        "    tf.keras.layers.BatchNormalization(momentum=0.999, scale=False),\n",
        "    tf.keras.layers.Flatten(),\n",
        "    lq.layers.QuantDense(40, use_bias=False, **kwargs),\n",
        "    tf.keras.layers.BatchNormalization(momentum=0.999, scale=False),\n",
        "    lq.layers.QuantDense(10, use_bias=False, **kwargs),\n",
        "    tf.keras.layers.BatchNormalization(momentum=0.999, scale=False),\n",
        "    tf.keras.layers.Activation(\"softmax\")\n",
        "])\n",
        "\n",
        "lq.models.summary(model13)\n",
        "\n",
        "model13.compile(optimizer='adam',\n",
        "              loss='sparse_categorical_crossentropy',\n",
        "              metrics=['accuracy'])\n",
        "trained_model13 = model13.fit(train_images, train_labels, batch_size=16, epochs=10)\n",
        "\n",
        "test_loss13, test_acc13 = model13.evaluate(test_images, test_labels)"
      ],
      "execution_count": null,
      "outputs": [
        {
          "output_type": "stream",
          "text": [
            "+sequential_13 stats----------------------------------------------------------------------------------------+\n",
            "| Layer                   Input prec.           Outputs  # 1-bit  # 32-bit  Memory  1-bit MACs  32-bit MACs |\n",
            "|                               (bit)                        x 1       x 1    (kB)                          |\n",
            "+-----------------------------------------------------------------------------------------------------------+\n",
            "| conv2d_26                         -   (-1, 28, 28, 6)        0       156    0.61           0       117600 |\n",
            "| max_pooling2d_26                  -   (-1, 14, 14, 6)        0         0       0           0            0 |\n",
            "| conv2d_27                         -  (-1, 14, 14, 16)        0      2416    9.44           0       470400 |\n",
            "| max_pooling2d_27                  -    (-1, 7, 7, 16)        0         0       0           0            0 |\n",
            "| flatten_25                        -         (-1, 784)        0         0       0           0            0 |\n",
            "| dense_21                          -         (-1, 120)        0     94200  367.97           0        94080 |\n",
            "| batch_normalization_30            -         (-1, 120)        0       240    0.94           0            0 |\n",
            "| flatten_26                        -         (-1, 120)        0         0       0           0            0 |\n",
            "| quant_dense_18                    1          (-1, 40)     4800         0    0.59        4800            0 |\n",
            "| batch_normalization_31            -          (-1, 40)        0        80    0.31           0            0 |\n",
            "| quant_dense_19                    1          (-1, 10)      400         0    0.05         400            0 |\n",
            "| batch_normalization_32            -          (-1, 10)        0        20    0.08           0            0 |\n",
            "| activation_12                     -          (-1, 10)        0         0       0           ?            ? |\n",
            "+-----------------------------------------------------------------------------------------------------------+\n",
            "| Total                                                     5200     97112  379.98        5200       682080 |\n",
            "+-----------------------------------------------------------------------------------------------------------+\n",
            "+sequential_13 summary-------------------------+\n",
            "| Total params                      102 k      |\n",
            "| Trainable params                  102 k      |\n",
            "| Non-trainable params              340        |\n",
            "| Model size                        379.98 KiB |\n",
            "| Model size (8-bit FP weights)     95.47 KiB  |\n",
            "| Float-32 Equivalent               399.66 KiB |\n",
            "| Compression Ratio of Memory       0.95       |\n",
            "| Number of MACs                    687 k      |\n",
            "| Ratio of MACs that are binarized  0.0076     |\n",
            "+----------------------------------------------+\n",
            "Epoch 1/10\n",
            "3750/3750 [==============================] - 54s 14ms/step - loss: 1.0603 - accuracy: 0.7333\n",
            "Epoch 2/10\n",
            "3750/3750 [==============================] - 53s 14ms/step - loss: 0.8308 - accuracy: 0.8235\n",
            "Epoch 3/10\n",
            "3750/3750 [==============================] - 53s 14ms/step - loss: 0.7958 - accuracy: 0.8377\n",
            "Epoch 4/10\n",
            "3750/3750 [==============================] - 53s 14ms/step - loss: 0.7816 - accuracy: 0.8467\n",
            "Epoch 5/10\n",
            "3750/3750 [==============================] - 53s 14ms/step - loss: 0.7649 - accuracy: 0.8549\n",
            "Epoch 6/10\n",
            "3750/3750 [==============================] - 53s 14ms/step - loss: 0.7524 - accuracy: 0.8582\n",
            "Epoch 7/10\n",
            "3750/3750 [==============================] - 53s 14ms/step - loss: 0.7528 - accuracy: 0.8596\n",
            "Epoch 8/10\n",
            "3750/3750 [==============================] - 53s 14ms/step - loss: 0.7469 - accuracy: 0.8619\n",
            "Epoch 9/10\n",
            "3750/3750 [==============================] - 53s 14ms/step - loss: 0.7474 - accuracy: 0.8611\n",
            "Epoch 10/10\n",
            "3750/3750 [==============================] - 53s 14ms/step - loss: 0.7431 - accuracy: 0.8658\n",
            "313/313 [==============================] - 4s 11ms/step - loss: 0.5412 - accuracy: 0.9020\n"
          ],
          "name": "stdout"
        }
      ]
    },
    {
      "cell_type": "markdown",
      "metadata": {
        "id": "f6eUWc3sMtbi"
      },
      "source": [
        "9. Layer size: 40, 10\n",
        "\n",
        "   batch size: 8"
      ]
    },
    {
      "cell_type": "code",
      "metadata": {
        "colab": {
          "base_uri": "https://localhost:8080/"
        },
        "id": "G0lzrkPBMx1U",
        "outputId": "320d1bac-05d2-4ad5-831b-8ad7b0463cf0"
      },
      "source": [
        "model14 = tf.keras.Sequential([\n",
        "    tf.keras.layers.Conv2D(6, (5,5), padding='same', activation=tf.nn.relu,\n",
        "                           input_shape=(28, 28, 1)),\n",
        "    tf.keras.layers.MaxPooling2D((2, 2), strides=2),\n",
        "    tf.keras.layers.Conv2D(16, (5,5), padding='same', activation=tf.nn.relu),\n",
        "    tf.keras.layers.MaxPooling2D((2, 2), strides=2),\n",
        "    tf.keras.layers.Flatten(),\n",
        "    tf.keras.layers.Dense(120, activation=tf.nn.relu),\n",
        "    #tf.keras.layers.Dense(84, activation=tf.nn.relu),\n",
        "    #tf.keras.layers.Dense(10, activation=tf.nn.softmax),\n",
        "    tf.keras.layers.BatchNormalization(momentum=0.999, scale=False),\n",
        "    tf.keras.layers.Flatten(),\n",
        "    lq.layers.QuantDense(40, use_bias=False, **kwargs),\n",
        "    tf.keras.layers.BatchNormalization(momentum=0.999, scale=False),\n",
        "    lq.layers.QuantDense(10, use_bias=False, **kwargs),\n",
        "    tf.keras.layers.BatchNormalization(momentum=0.999, scale=False),\n",
        "    tf.keras.layers.Activation(\"softmax\")\n",
        "])\n",
        "\n",
        "lq.models.summary(model14)\n",
        "\n",
        "model14.compile(optimizer='adam',\n",
        "              loss='sparse_categorical_crossentropy',\n",
        "              metrics=['accuracy'])\n",
        "trained_model14 = model14.fit(train_images, train_labels, batch_size=8, epochs=10)\n",
        "\n",
        "test_loss14, test_acc14 = model14.evaluate(test_images, test_labels)"
      ],
      "execution_count": null,
      "outputs": [
        {
          "output_type": "stream",
          "text": [
            "+sequential_14 stats----------------------------------------------------------------------------------------+\n",
            "| Layer                   Input prec.           Outputs  # 1-bit  # 32-bit  Memory  1-bit MACs  32-bit MACs |\n",
            "|                               (bit)                        x 1       x 1    (kB)                          |\n",
            "+-----------------------------------------------------------------------------------------------------------+\n",
            "| conv2d_28                         -   (-1, 28, 28, 6)        0       156    0.61           0       117600 |\n",
            "| max_pooling2d_28                  -   (-1, 14, 14, 6)        0         0       0           0            0 |\n",
            "| conv2d_29                         -  (-1, 14, 14, 16)        0      2416    9.44           0       470400 |\n",
            "| max_pooling2d_29                  -    (-1, 7, 7, 16)        0         0       0           0            0 |\n",
            "| flatten_27                        -         (-1, 784)        0         0       0           0            0 |\n",
            "| dense_22                          -         (-1, 120)        0     94200  367.97           0        94080 |\n",
            "| batch_normalization_33            -         (-1, 120)        0       240    0.94           0            0 |\n",
            "| flatten_28                        -         (-1, 120)        0         0       0           0            0 |\n",
            "| quant_dense_20                    1          (-1, 40)     4800         0    0.59        4800            0 |\n",
            "| batch_normalization_34            -          (-1, 40)        0        80    0.31           0            0 |\n",
            "| quant_dense_21                    1          (-1, 10)      400         0    0.05         400            0 |\n",
            "| batch_normalization_35            -          (-1, 10)        0        20    0.08           0            0 |\n",
            "| activation_13                     -          (-1, 10)        0         0       0           ?            ? |\n",
            "+-----------------------------------------------------------------------------------------------------------+\n",
            "| Total                                                     5200     97112  379.98        5200       682080 |\n",
            "+-----------------------------------------------------------------------------------------------------------+\n",
            "+sequential_14 summary-------------------------+\n",
            "| Total params                      102 k      |\n",
            "| Trainable params                  102 k      |\n",
            "| Non-trainable params              340        |\n",
            "| Model size                        379.98 KiB |\n",
            "| Model size (8-bit FP weights)     95.47 KiB  |\n",
            "| Float-32 Equivalent               399.66 KiB |\n",
            "| Compression Ratio of Memory       0.95       |\n",
            "| Number of MACs                    687 k      |\n",
            "| Ratio of MACs that are binarized  0.0076     |\n",
            "+----------------------------------------------+\n",
            "Epoch 1/10\n",
            "7500/7500 [==============================] - 71s 9ms/step - loss: 1.2247 - accuracy: 0.6638\n",
            "Epoch 2/10\n",
            "7500/7500 [==============================] - 70s 9ms/step - loss: 1.0375 - accuracy: 0.7654\n",
            "Epoch 3/10\n",
            "7500/7500 [==============================] - 71s 9ms/step - loss: 1.0027 - accuracy: 0.7869\n",
            "Epoch 4/10\n",
            "7500/7500 [==============================] - 71s 10ms/step - loss: 0.9893 - accuracy: 0.7940\n",
            "Epoch 5/10\n",
            "7500/7500 [==============================] - 71s 9ms/step - loss: 0.9809 - accuracy: 0.8007\n",
            "Epoch 6/10\n",
            "7500/7500 [==============================] - 71s 9ms/step - loss: 0.9740 - accuracy: 0.8029\n",
            "Epoch 7/10\n",
            "7500/7500 [==============================] - 71s 9ms/step - loss: 0.9662 - accuracy: 0.8096\n",
            "Epoch 8/10\n",
            "7500/7500 [==============================] - 72s 10ms/step - loss: 0.9691 - accuracy: 0.8064\n",
            "Epoch 9/10\n",
            "7500/7500 [==============================] - 70s 9ms/step - loss: 0.9612 - accuracy: 0.8145\n",
            "Epoch 10/10\n",
            "7500/7500 [==============================] - 70s 9ms/step - loss: 0.9471 - accuracy: 0.8212\n",
            "313/313 [==============================] - 3s 10ms/step - loss: 0.5894 - accuracy: 0.8897\n"
          ],
          "name": "stdout"
        }
      ]
    },
    {
      "cell_type": "markdown",
      "metadata": {
        "id": "T7o8poQGqIYm"
      },
      "source": [
        "10. Layer size: 100, 10(last)\n",
        "\n",
        "   batch size: 64"
      ]
    },
    {
      "cell_type": "code",
      "metadata": {
        "colab": {
          "base_uri": "https://localhost:8080/"
        },
        "id": "w10acFC3qLMI",
        "outputId": "d9a7159d-dc11-4921-d66f-5b95eac2fa71"
      },
      "source": [
        "model15 = tf.keras.Sequential([\n",
        "    tf.keras.layers.Conv2D(6, (5,5), padding='same', activation=tf.nn.relu,\n",
        "                           input_shape=(28, 28, 1)),\n",
        "    tf.keras.layers.MaxPooling2D((2, 2), strides=2),\n",
        "    tf.keras.layers.Conv2D(16, (5,5), padding='same', activation=tf.nn.relu),\n",
        "    tf.keras.layers.MaxPooling2D((2, 2), strides=2),\n",
        "    tf.keras.layers.Flatten(),\n",
        "    tf.keras.layers.Dense(120, activation=tf.nn.relu),\n",
        "    #tf.keras.layers.Dense(84, activation=tf.nn.relu),\n",
        "    #tf.keras.layers.Dense(10, activation=tf.nn.softmax),\n",
        "    tf.keras.layers.BatchNormalization(momentum=0.999, scale=False),\n",
        "    tf.keras.layers.Flatten(),\n",
        "    lq.layers.QuantDense(100, use_bias=False, **kwargs),\n",
        "    tf.keras.layers.BatchNormalization(momentum=0.999, scale=False),\n",
        "    lq.layers.QuantDense(10, use_bias=False, **kwargs),\n",
        "    tf.keras.layers.BatchNormalization(momentum=0.999, scale=False),\n",
        "    tf.keras.layers.Activation(\"softmax\")\n",
        "])\n",
        "\n",
        "lq.models.summary(model15)\n",
        "\n",
        "model15.compile(optimizer='adam',\n",
        "              loss='sparse_categorical_crossentropy',\n",
        "              metrics=['accuracy'])\n",
        "trained_model15 = model15.fit(train_images, train_labels, batch_size=64, epochs=10)\n",
        "\n",
        "test_loss15, test_acc15 = model15.evaluate(test_images, test_labels)"
      ],
      "execution_count": null,
      "outputs": [
        {
          "output_type": "stream",
          "text": [
            "+sequential_15 stats----------------------------------------------------------------------------------------+\n",
            "| Layer                   Input prec.           Outputs  # 1-bit  # 32-bit  Memory  1-bit MACs  32-bit MACs |\n",
            "|                               (bit)                        x 1       x 1    (kB)                          |\n",
            "+-----------------------------------------------------------------------------------------------------------+\n",
            "| conv2d_30                         -   (-1, 28, 28, 6)        0       156    0.61           0       117600 |\n",
            "| max_pooling2d_30                  -   (-1, 14, 14, 6)        0         0       0           0            0 |\n",
            "| conv2d_31                         -  (-1, 14, 14, 16)        0      2416    9.44           0       470400 |\n",
            "| max_pooling2d_31                  -    (-1, 7, 7, 16)        0         0       0           0            0 |\n",
            "| flatten_29                        -         (-1, 784)        0         0       0           0            0 |\n",
            "| dense_23                          -         (-1, 120)        0     94200  367.97           0        94080 |\n",
            "| batch_normalization_36            -         (-1, 120)        0       240    0.94           0            0 |\n",
            "| flatten_30                        -         (-1, 120)        0         0       0           0            0 |\n",
            "| quant_dense_22                    1         (-1, 100)    12000         0    1.46       12000            0 |\n",
            "| batch_normalization_37            -         (-1, 100)        0       200    0.78           0            0 |\n",
            "| quant_dense_23                    1          (-1, 10)     1000         0    0.12        1000            0 |\n",
            "| batch_normalization_38            -          (-1, 10)        0        20    0.08           0            0 |\n",
            "| activation_14                     -          (-1, 10)        0         0       0           ?            ? |\n",
            "+-----------------------------------------------------------------------------------------------------------+\n",
            "| Total                                                    13000     97232  381.40       13000       682080 |\n",
            "+-----------------------------------------------------------------------------------------------------------+\n",
            "+sequential_15 summary-------------------------+\n",
            "| Total params                      110 k      |\n",
            "| Trainable params                  110 k      |\n",
            "| Non-trainable params              460        |\n",
            "| Model size                        381.40 KiB |\n",
            "| Model size (8-bit FP weights)     96.54 KiB  |\n",
            "| Float-32 Equivalent               430.59 KiB |\n",
            "| Compression Ratio of Memory       0.89       |\n",
            "| Number of MACs                    695 k      |\n",
            "| Ratio of MACs that are binarized  0.0187     |\n",
            "+----------------------------------------------+\n",
            "Epoch 1/10\n",
            "938/938 [==============================] - 41s 43ms/step - loss: 0.9357 - accuracy: 0.7659\n",
            "Epoch 2/10\n",
            "938/938 [==============================] - 40s 43ms/step - loss: 0.6311 - accuracy: 0.8776\n",
            "Epoch 3/10\n",
            "938/938 [==============================] - 40s 43ms/step - loss: 0.5968 - accuracy: 0.8897\n",
            "Epoch 4/10\n",
            "938/938 [==============================] - 40s 43ms/step - loss: 0.5702 - accuracy: 0.8991\n",
            "Epoch 5/10\n",
            "938/938 [==============================] - 40s 43ms/step - loss: 0.5575 - accuracy: 0.9039\n",
            "Epoch 6/10\n",
            "938/938 [==============================] - 40s 43ms/step - loss: 0.5491 - accuracy: 0.9083\n",
            "Epoch 7/10\n",
            "938/938 [==============================] - 40s 43ms/step - loss: 0.5442 - accuracy: 0.9111\n",
            "Epoch 8/10\n",
            "938/938 [==============================] - 40s 43ms/step - loss: 0.5308 - accuracy: 0.9182\n",
            "Epoch 9/10\n",
            "938/938 [==============================] - 40s 43ms/step - loss: 0.5271 - accuracy: 0.9185\n",
            "Epoch 10/10\n",
            "938/938 [==============================] - 40s 43ms/step - loss: 0.5256 - accuracy: 0.9202\n",
            "313/313 [==============================] - 3s 11ms/step - loss: 0.5578 - accuracy: 0.8939\n"
          ],
          "name": "stdout"
        }
      ]
    },
    {
      "cell_type": "markdown",
      "metadata": {
        "id": "FV5i02OwqQzI"
      },
      "source": [
        "11. Layer size: 100, 40(last)\n",
        "\n",
        "   batch size: 64"
      ]
    },
    {
      "cell_type": "code",
      "metadata": {
        "colab": {
          "base_uri": "https://localhost:8080/"
        },
        "id": "SXb0Ms-LqTvs",
        "outputId": "a520be04-a88f-4d0d-9d86-b3fe2b762dd0"
      },
      "source": [
        "model16 = tf.keras.Sequential([\n",
        "    tf.keras.layers.Conv2D(6, (5,5), padding='same', activation=tf.nn.relu,\n",
        "                           input_shape=(28, 28, 1)),\n",
        "    tf.keras.layers.MaxPooling2D((2, 2), strides=2),\n",
        "    tf.keras.layers.Conv2D(16, (5,5), padding='same', activation=tf.nn.relu),\n",
        "    tf.keras.layers.MaxPooling2D((2, 2), strides=2),\n",
        "    tf.keras.layers.Flatten(),\n",
        "    tf.keras.layers.Dense(120, activation=tf.nn.relu),\n",
        "    #tf.keras.layers.Dense(84, activation=tf.nn.relu),\n",
        "    #tf.keras.layers.Dense(10, activation=tf.nn.softmax),\n",
        "    tf.keras.layers.BatchNormalization(momentum=0.999, scale=False),\n",
        "    tf.keras.layers.Flatten(),\n",
        "    lq.layers.QuantDense(100, use_bias=False, **kwargs),\n",
        "    tf.keras.layers.BatchNormalization(momentum=0.999, scale=False),\n",
        "    lq.layers.QuantDense(40, use_bias=False, **kwargs),\n",
        "    tf.keras.layers.BatchNormalization(momentum=0.999, scale=False),\n",
        "    tf.keras.layers.Activation(\"softmax\")\n",
        "])\n",
        "\n",
        "lq.models.summary(model16)\n",
        "\n",
        "model16.compile(optimizer='adam',\n",
        "              loss='sparse_categorical_crossentropy',\n",
        "              metrics=['accuracy'])\n",
        "trained_model16 = model16.fit(train_images, train_labels, batch_size=64, epochs=10)\n",
        "\n",
        "test_loss16, test_acc16 = model16.evaluate(test_images, test_labels)"
      ],
      "execution_count": null,
      "outputs": [
        {
          "output_type": "stream",
          "text": [
            "+sequential_16 stats----------------------------------------------------------------------------------------+\n",
            "| Layer                   Input prec.           Outputs  # 1-bit  # 32-bit  Memory  1-bit MACs  32-bit MACs |\n",
            "|                               (bit)                        x 1       x 1    (kB)                          |\n",
            "+-----------------------------------------------------------------------------------------------------------+\n",
            "| conv2d_32                         -   (-1, 28, 28, 6)        0       156    0.61           0       117600 |\n",
            "| max_pooling2d_32                  -   (-1, 14, 14, 6)        0         0       0           0            0 |\n",
            "| conv2d_33                         -  (-1, 14, 14, 16)        0      2416    9.44           0       470400 |\n",
            "| max_pooling2d_33                  -    (-1, 7, 7, 16)        0         0       0           0            0 |\n",
            "| flatten_31                        -         (-1, 784)        0         0       0           0            0 |\n",
            "| dense_24                          -         (-1, 120)        0     94200  367.97           0        94080 |\n",
            "| batch_normalization_39            -         (-1, 120)        0       240    0.94           0            0 |\n",
            "| flatten_32                        -         (-1, 120)        0         0       0           0            0 |\n",
            "| quant_dense_24                    1         (-1, 100)    12000         0    1.46       12000            0 |\n",
            "| batch_normalization_40            -         (-1, 100)        0       200    0.78           0            0 |\n",
            "| quant_dense_25                    1          (-1, 40)     4000         0    0.49        4000            0 |\n",
            "| batch_normalization_41            -          (-1, 40)        0        80    0.31           0            0 |\n",
            "| activation_15                     -          (-1, 40)        0         0       0           ?            ? |\n",
            "+-----------------------------------------------------------------------------------------------------------+\n",
            "| Total                                                    16000     97292  382.00       16000       682080 |\n",
            "+-----------------------------------------------------------------------------------------------------------+\n",
            "+sequential_16 summary-------------------------+\n",
            "| Total params                      113 k      |\n",
            "| Trainable params                  113 k      |\n",
            "| Non-trainable params              520        |\n",
            "| Model size                        382.00 KiB |\n",
            "| Model size (8-bit FP weights)     96.96 KiB  |\n",
            "| Float-32 Equivalent               442.55 KiB |\n",
            "| Compression Ratio of Memory       0.86       |\n",
            "| Number of MACs                    698 k      |\n",
            "| Ratio of MACs that are binarized  0.0229     |\n",
            "+----------------------------------------------+\n",
            "Epoch 1/10\n",
            "938/938 [==============================] - 41s 43ms/step - loss: 1.7934 - accuracy: 0.7131\n",
            "Epoch 2/10\n",
            "938/938 [==============================] - 40s 43ms/step - loss: 0.9220 - accuracy: 0.8753\n",
            "Epoch 3/10\n",
            "938/938 [==============================] - 40s 43ms/step - loss: 0.7219 - accuracy: 0.8904\n",
            "Epoch 4/10\n",
            "938/938 [==============================] - 40s 43ms/step - loss: 0.6435 - accuracy: 0.8991\n",
            "Epoch 5/10\n",
            "938/938 [==============================] - 40s 43ms/step - loss: 0.6053 - accuracy: 0.9031\n",
            "Epoch 6/10\n",
            "938/938 [==============================] - 40s 43ms/step - loss: 0.5761 - accuracy: 0.9081\n",
            "Epoch 7/10\n",
            "938/938 [==============================] - 40s 43ms/step - loss: 0.5570 - accuracy: 0.9134\n",
            "Epoch 8/10\n",
            "938/938 [==============================] - 40s 43ms/step - loss: 0.5466 - accuracy: 0.9151\n",
            "Epoch 9/10\n",
            "938/938 [==============================] - 40s 43ms/step - loss: 0.5313 - accuracy: 0.9199\n",
            "Epoch 10/10\n",
            "938/938 [==============================] - 40s 43ms/step - loss: 0.5252 - accuracy: 0.9213\n",
            "313/313 [==============================] - 3s 9ms/step - loss: 0.5655 - accuracy: 0.9016\n"
          ],
          "name": "stdout"
        }
      ]
    },
    {
      "cell_type": "markdown",
      "metadata": {
        "id": "_ODZ1hd1qWy8"
      },
      "source": [
        "12. Layer size: 100, 10\n",
        "\n",
        "   batch size: 16"
      ]
    },
    {
      "cell_type": "code",
      "metadata": {
        "colab": {
          "base_uri": "https://localhost:8080/"
        },
        "id": "_bSYyOdtqgYQ",
        "outputId": "20f8566d-05d2-430d-ef80-4f921fe85bc4"
      },
      "source": [
        "model17 = tf.keras.Sequential([\n",
        "    tf.keras.layers.Conv2D(6, (5,5), padding='same', activation=tf.nn.relu,\n",
        "                           input_shape=(28, 28, 1)),\n",
        "    tf.keras.layers.MaxPooling2D((2, 2), strides=2),\n",
        "    tf.keras.layers.Conv2D(16, (5,5), padding='same', activation=tf.nn.relu),\n",
        "    tf.keras.layers.MaxPooling2D((2, 2), strides=2),\n",
        "    tf.keras.layers.Flatten(),\n",
        "    tf.keras.layers.Dense(120, activation=tf.nn.relu),\n",
        "    #tf.keras.layers.Dense(84, activation=tf.nn.relu),\n",
        "    #tf.keras.layers.Dense(10, activation=tf.nn.softmax),\n",
        "    tf.keras.layers.BatchNormalization(momentum=0.999, scale=False),\n",
        "    tf.keras.layers.Flatten(),\n",
        "    lq.layers.QuantDense(100, use_bias=False, **kwargs),\n",
        "    tf.keras.layers.BatchNormalization(momentum=0.999, scale=False),\n",
        "    lq.layers.QuantDense(10, use_bias=False, **kwargs),\n",
        "    tf.keras.layers.BatchNormalization(momentum=0.999, scale=False),\n",
        "    tf.keras.layers.Activation(\"softmax\")\n",
        "])\n",
        "\n",
        "lq.models.summary(model17)\n",
        "\n",
        "model17.compile(optimizer='adam',\n",
        "              loss='sparse_categorical_crossentropy',\n",
        "              metrics=['accuracy'])\n",
        "trained_model17 = model17.fit(train_images, train_labels, batch_size=16, epochs=10)\n",
        "\n",
        "test_loss17, test_acc17 = model17.evaluate(test_images, test_labels)"
      ],
      "execution_count": null,
      "outputs": [
        {
          "output_type": "stream",
          "text": [
            "+sequential_17 stats----------------------------------------------------------------------------------------+\n",
            "| Layer                   Input prec.           Outputs  # 1-bit  # 32-bit  Memory  1-bit MACs  32-bit MACs |\n",
            "|                               (bit)                        x 1       x 1    (kB)                          |\n",
            "+-----------------------------------------------------------------------------------------------------------+\n",
            "| conv2d_34                         -   (-1, 28, 28, 6)        0       156    0.61           0       117600 |\n",
            "| max_pooling2d_34                  -   (-1, 14, 14, 6)        0         0       0           0            0 |\n",
            "| conv2d_35                         -  (-1, 14, 14, 16)        0      2416    9.44           0       470400 |\n",
            "| max_pooling2d_35                  -    (-1, 7, 7, 16)        0         0       0           0            0 |\n",
            "| flatten_33                        -         (-1, 784)        0         0       0           0            0 |\n",
            "| dense_25                          -         (-1, 120)        0     94200  367.97           0        94080 |\n",
            "| batch_normalization_42            -         (-1, 120)        0       240    0.94           0            0 |\n",
            "| flatten_34                        -         (-1, 120)        0         0       0           0            0 |\n",
            "| quant_dense_26                    1         (-1, 100)    12000         0    1.46       12000            0 |\n",
            "| batch_normalization_43            -         (-1, 100)        0       200    0.78           0            0 |\n",
            "| quant_dense_27                    1          (-1, 10)     1000         0    0.12        1000            0 |\n",
            "| batch_normalization_44            -          (-1, 10)        0        20    0.08           0            0 |\n",
            "| activation_16                     -          (-1, 10)        0         0       0           ?            ? |\n",
            "+-----------------------------------------------------------------------------------------------------------+\n",
            "| Total                                                    13000     97232  381.40       13000       682080 |\n",
            "+-----------------------------------------------------------------------------------------------------------+\n",
            "+sequential_17 summary-------------------------+\n",
            "| Total params                      110 k      |\n",
            "| Trainable params                  110 k      |\n",
            "| Non-trainable params              460        |\n",
            "| Model size                        381.40 KiB |\n",
            "| Model size (8-bit FP weights)     96.54 KiB  |\n",
            "| Float-32 Equivalent               430.59 KiB |\n",
            "| Compression Ratio of Memory       0.89       |\n",
            "| Number of MACs                    695 k      |\n",
            "| Ratio of MACs that are binarized  0.0187     |\n",
            "+----------------------------------------------+\n",
            "Epoch 1/10\n",
            "3750/3750 [==============================] - 53s 14ms/step - loss: 1.0172 - accuracy: 0.7405\n",
            "Epoch 2/10\n",
            "3750/3750 [==============================] - 53s 14ms/step - loss: 0.8075 - accuracy: 0.8258\n",
            "Epoch 3/10\n",
            "3750/3750 [==============================] - 53s 14ms/step - loss: 0.7790 - accuracy: 0.8392\n",
            "Epoch 4/10\n",
            "3750/3750 [==============================] - 52s 14ms/step - loss: 0.7603 - accuracy: 0.8515\n",
            "Epoch 5/10\n",
            "3750/3750 [==============================] - 52s 14ms/step - loss: 0.7500 - accuracy: 0.8558\n",
            "Epoch 6/10\n",
            "3750/3750 [==============================] - 53s 14ms/step - loss: 0.7421 - accuracy: 0.8586\n",
            "Epoch 7/10\n",
            "3750/3750 [==============================] - 52s 14ms/step - loss: 0.7355 - accuracy: 0.8641\n",
            "Epoch 8/10\n",
            "3750/3750 [==============================] - 52s 14ms/step - loss: 0.7313 - accuracy: 0.8640\n",
            "Epoch 9/10\n",
            "3750/3750 [==============================] - 52s 14ms/step - loss: 0.7311 - accuracy: 0.8653\n",
            "Epoch 10/10\n",
            "3750/3750 [==============================] - 52s 14ms/step - loss: 0.7250 - accuracy: 0.8712\n",
            "313/313 [==============================] - 3s 10ms/step - loss: 0.5576 - accuracy: 0.8973\n"
          ],
          "name": "stdout"
        }
      ]
    },
    {
      "cell_type": "markdown",
      "metadata": {
        "id": "spaGH6ylNwd8"
      },
      "source": [
        "13. Layer size: 100, 10\n",
        "\n",
        "    batch size: 8"
      ]
    },
    {
      "cell_type": "code",
      "metadata": {
        "colab": {
          "base_uri": "https://localhost:8080/"
        },
        "id": "Xc8rVzwjN3fn",
        "outputId": "5b7e3a45-5efd-4a6a-a19d-06c403941a1e"
      },
      "source": [
        "model18 = tf.keras.Sequential([\n",
        "    tf.keras.layers.Conv2D(6, (5,5), padding='same', activation=tf.nn.relu,\n",
        "                           input_shape=(28, 28, 1)),\n",
        "    tf.keras.layers.MaxPooling2D((2, 2), strides=2),\n",
        "    tf.keras.layers.Conv2D(16, (5,5), padding='same', activation=tf.nn.relu),\n",
        "    tf.keras.layers.MaxPooling2D((2, 2), strides=2),\n",
        "    tf.keras.layers.Flatten(),\n",
        "    tf.keras.layers.Dense(120, activation=tf.nn.relu),\n",
        "    #tf.keras.layers.Dense(84, activation=tf.nn.relu),\n",
        "    #tf.keras.layers.Dense(10, activation=tf.nn.softmax),\n",
        "    tf.keras.layers.BatchNormalization(momentum=0.999, scale=False),\n",
        "    tf.keras.layers.Flatten(),\n",
        "    lq.layers.QuantDense(100, use_bias=False, **kwargs),\n",
        "    tf.keras.layers.BatchNormalization(momentum=0.999, scale=False),\n",
        "    lq.layers.QuantDense(80, use_bias=False, **kwargs),\n",
        "    tf.keras.layers.BatchNormalization(momentum=0.999, scale=False),\n",
        "    tf.keras.layers.Activation(\"softmax\")\n",
        "])\n",
        "\n",
        "lq.models.summary(model18)\n",
        "\n",
        "model18.compile(optimizer='adam',\n",
        "              loss='sparse_categorical_crossentropy',\n",
        "              metrics=['accuracy'])\n",
        "trained_model18 = model18.fit(train_images, train_labels, batch_size=8, epochs=10)\n",
        "\n",
        "test_loss18, test_acc18 = model18.evaluate(test_images, test_labels)"
      ],
      "execution_count": null,
      "outputs": [
        {
          "output_type": "stream",
          "text": [
            "+sequential_18 stats----------------------------------------------------------------------------------------+\n",
            "| Layer                   Input prec.           Outputs  # 1-bit  # 32-bit  Memory  1-bit MACs  32-bit MACs |\n",
            "|                               (bit)                        x 1       x 1    (kB)                          |\n",
            "+-----------------------------------------------------------------------------------------------------------+\n",
            "| conv2d_36                         -   (-1, 28, 28, 6)        0       156    0.61           0       117600 |\n",
            "| max_pooling2d_36                  -   (-1, 14, 14, 6)        0         0       0           0            0 |\n",
            "| conv2d_37                         -  (-1, 14, 14, 16)        0      2416    9.44           0       470400 |\n",
            "| max_pooling2d_37                  -    (-1, 7, 7, 16)        0         0       0           0            0 |\n",
            "| flatten_35                        -         (-1, 784)        0         0       0           0            0 |\n",
            "| dense_26                          -         (-1, 120)        0     94200  367.97           0        94080 |\n",
            "| batch_normalization_45            -         (-1, 120)        0       240    0.94           0            0 |\n",
            "| flatten_36                        -         (-1, 120)        0         0       0           0            0 |\n",
            "| quant_dense_28                    1         (-1, 100)    12000         0    1.46       12000            0 |\n",
            "| batch_normalization_46            -         (-1, 100)        0       200    0.78           0            0 |\n",
            "| quant_dense_29                    1          (-1, 80)     8000         0    0.98        8000            0 |\n",
            "| batch_normalization_47            -          (-1, 80)        0       160    0.62           0            0 |\n",
            "| activation_17                     -          (-1, 80)        0         0       0           ?            ? |\n",
            "+-----------------------------------------------------------------------------------------------------------+\n",
            "| Total                                                    20000     97372  382.80       20000       682080 |\n",
            "+-----------------------------------------------------------------------------------------------------------+\n",
            "+sequential_18 summary-------------------------+\n",
            "| Total params                      117 k      |\n",
            "| Trainable params                  117 k      |\n",
            "| Non-trainable params              600        |\n",
            "| Model size                        382.80 KiB |\n",
            "| Model size (8-bit FP weights)     97.53 KiB  |\n",
            "| Float-32 Equivalent               458.48 KiB |\n",
            "| Compression Ratio of Memory       0.83       |\n",
            "| Number of MACs                    702 k      |\n",
            "| Ratio of MACs that are binarized  0.0285     |\n",
            "+----------------------------------------------+\n",
            "Epoch 1/10\n",
            "7500/7500 [==============================] - 71s 9ms/step - loss: 1.9080 - accuracy: 0.6555\n",
            "Epoch 2/10\n",
            "7500/7500 [==============================] - 70s 9ms/step - loss: 1.0031 - accuracy: 0.7868\n",
            "Epoch 3/10\n",
            "7500/7500 [==============================] - 70s 9ms/step - loss: 0.9732 - accuracy: 0.8036\n",
            "Epoch 4/10\n",
            "7500/7500 [==============================] - 70s 9ms/step - loss: 0.9602 - accuracy: 0.8096\n",
            "Epoch 5/10\n",
            "7500/7500 [==============================] - 70s 9ms/step - loss: 0.9539 - accuracy: 0.8169\n",
            "Epoch 6/10\n",
            "7500/7500 [==============================] - 70s 9ms/step - loss: 0.9525 - accuracy: 0.8170\n",
            "Epoch 7/10\n",
            "7500/7500 [==============================] - 70s 9ms/step - loss: 0.9395 - accuracy: 0.8244\n",
            "Epoch 8/10\n",
            "7500/7500 [==============================] - 70s 9ms/step - loss: 0.9437 - accuracy: 0.8225\n",
            "Epoch 9/10\n",
            "7500/7500 [==============================] - 71s 9ms/step - loss: 0.9471 - accuracy: 0.8226\n",
            "Epoch 10/10\n",
            "7500/7500 [==============================] - 71s 9ms/step - loss: 0.9340 - accuracy: 0.8258\n",
            "313/313 [==============================] - 4s 12ms/step - loss: 0.6101 - accuracy: 0.8885\n"
          ],
          "name": "stdout"
        }
      ]
    },
    {
      "cell_type": "code",
      "metadata": {
        "colab": {
          "base_uri": "https://localhost:8080/",
          "height": 325
        },
        "id": "td2rypsbvQwH",
        "outputId": "e8124d73-96fd-46d7-df0c-6b43a7eb6a1e"
      },
      "source": [
        "# Plotting binarized two layers\n",
        "plt.title('LeNet with two binarization layers \\n(Dense = (84,10), Batch = 64, Epochs = 10, \\nunless otherwise stated)')\n",
        "plt.plot(trained_model7.history['accuracy'])\n",
        "plt.plot(trained_model8.history['accuracy'])\n",
        "plt.plot(trained_model9.history['accuracy'])\n",
        "plt.plot(trained_model10.history['accuracy'])\n",
        "plt.ylabel('Accuracy')\n",
        "plt.xlabel('Epoch')\n",
        "plt.legend(['2BinLayers', \n",
        "            '2BinLayers(Dense(84,40))', \n",
        "            '2BinLayers(Batch=16)', \n",
        "            '2BinLayers(Batch=8)', \n",
        "            ], loc='lower right')\n",
        "plt.show()"
      ],
      "execution_count": null,
      "outputs": [
        {
          "output_type": "display_data",
          "data": {
            "image/png": "[encoded data removed]",
            "text/plain": [
              "<Figure size 432x288 with 1 Axes>"
            ]
          },
          "metadata": {
            "tags": [],
            "needs_background": "light"
          }
        }
      ]
    },
    {
      "cell_type": "code",
      "metadata": {
        "colab": {
          "base_uri": "https://localhost:8080/",
          "height": 325
        },
        "id": "5LHVIsXHQUW5",
        "outputId": "085e992b-0bd4-48a6-be9e-808cae89c1ef"
      },
      "source": [
        "plt.title('LeNet with two binarization layers \\n(Dense = (40,10), Batch = 64, Epochs = 10, \\nunless otherwise stated)')\n",
        "plt.plot(trained_model11.history['accuracy'])\n",
        "plt.plot(trained_model12.history['accuracy'])\n",
        "plt.plot(trained_model13.history['accuracy'])\n",
        "plt.plot(trained_model14.history['accuracy'])\n",
        "plt.ylabel('Accuracy')\n",
        "plt.xlabel('Epoch')\n",
        "plt.legend(['2BinLayers', \n",
        "            '2BinLayers(Dense(40,40))', \n",
        "            '2BinLayers(Batch=16)',\n",
        "            '2BinLayers(Batch=8)',\n",
        "            ], loc='lower right')\n",
        "plt.show()"
      ],
      "execution_count": null,
      "outputs": [
        {
          "output_type": "display_data",
          "data": {
            "image/png": "[encoded data removed]",
            "text/plain": [
              "<Figure size 432x288 with 1 Axes>"
            ]
          },
          "metadata": {
            "tags": [],
            "needs_background": "light"
          }
        }
      ]
    },
    {
      "cell_type": "code",
      "metadata": {
        "colab": {
          "base_uri": "https://localhost:8080/",
          "height": 325
        },
        "id": "2S98n8dBQtvA",
        "outputId": "79767cff-c48c-45f6-8ef8-f27c2966b8f5"
      },
      "source": [
        "plt.title('LeNet with two binarization layers \\n(Dense = (100,10), Batch = 64, Epochs = 10, \\nunless otherwise stated)')\n",
        "plt.plot(trained_model15.history['accuracy'])\n",
        "plt.plot(trained_model16.history['accuracy'])\n",
        "plt.plot(trained_model17.history['accuracy'])\n",
        "plt.plot(trained_model18.history['accuracy'])\n",
        "plt.ylabel('Accuracy')\n",
        "plt.xlabel('Epoch')\n",
        "plt.legend(['2BinLayers', \n",
        "            '2BinLayers(Dense(100,40))', \n",
        "            '2BinLayers(Batch=16)', \n",
        "            '2BinLayers(Batch=8)', \n",
        "            ], loc='lower right')\n",
        "plt.show()"
      ],
      "execution_count": null,
      "outputs": [
        {
          "output_type": "display_data",
          "data": {
            "image/png": "[encoded data removed]",
            "text/plain": [
              "<Figure size 432x288 with 1 Axes>"
            ]
          },
          "metadata": {
            "tags": [],
            "needs_background": "light"
          }
        }
      ]
    },
    {
      "cell_type": "markdown",
      "metadata": {
        "id": "yS91Gnta7_XZ"
      },
      "source": [
        "\n",
        "\n",
        "---\n",
        "**3 layers binarized:**\n",
        "\n"
      ]
    },
    {
      "cell_type": "markdown",
      "metadata": {
        "id": "OPld8_vG8lDf"
      },
      "source": [
        "1. layer size: 120\n",
        "\n",
        "   batch size: 64"
      ]
    },
    {
      "cell_type": "code",
      "metadata": {
        "colab": {
          "base_uri": "https://localhost:8080/"
        },
        "id": "jUZrNiMd8HjN",
        "outputId": "d46c388a-a93c-4402-964c-46693caba8d2"
      },
      "source": [
        "model19 = tf.keras.Sequential([\n",
        "    tf.keras.layers.Conv2D(6, (5,5), padding='same', activation=tf.nn.relu,\n",
        "                           input_shape=(28, 28, 1)),\n",
        "    tf.keras.layers.MaxPooling2D((2, 2), strides=2),\n",
        "    tf.keras.layers.Conv2D(16, (5,5), padding='same', activation=tf.nn.relu),\n",
        "    tf.keras.layers.MaxPooling2D((2, 2), strides=2),\n",
        "    tf.keras.layers.Flatten(),\n",
        "    #tf.keras.layers.Dense(120, activation=tf.nn.relu),\n",
        "    #tf.keras.layers.Dense(84, activation=tf.nn.relu),\n",
        "    #tf.keras.layers.Dense(10, activation=tf.nn.softmax),\n",
        "    tf.keras.layers.BatchNormalization(momentum=0.999, scale=False),\n",
        "    tf.keras.layers.Flatten(),\n",
        "    lq.layers.QuantDense(120, use_bias=False, **kwargs),\n",
        "    tf.keras.layers.BatchNormalization(momentum=0.999, scale=False),\n",
        "    lq.layers.QuantDense(84, use_bias=False, **kwargs),\n",
        "    tf.keras.layers.BatchNormalization(momentum=0.999, scale=False),\n",
        "    lq.layers.QuantDense(10, use_bias=False, **kwargs),\n",
        "    tf.keras.layers.BatchNormalization(momentum=0.999, scale=False),\n",
        "    tf.keras.layers.Activation(\"softmax\")\n",
        "])\n",
        "\n",
        "lq.models.summary(model19)\n",
        "\n",
        "model19.compile(optimizer='adam',\n",
        "              loss='sparse_categorical_crossentropy',\n",
        "              metrics=['accuracy'])\n",
        "trained_model19 = model19.fit(train_images, train_labels, batch_size=64, epochs=10)\n",
        "\n",
        "test_loss19, test_acc19 = model19.evaluate(test_images, test_labels)"
      ],
      "execution_count": null,
      "outputs": [
        {
          "output_type": "stream",
          "text": [
            "+sequential_19 stats----------------------------------------------------------------------------------------+\n",
            "| Layer                   Input prec.           Outputs  # 1-bit  # 32-bit  Memory  1-bit MACs  32-bit MACs |\n",
            "|                               (bit)                        x 1       x 1    (kB)                          |\n",
            "+-----------------------------------------------------------------------------------------------------------+\n",
            "| conv2d_38                         -   (-1, 28, 28, 6)        0       156    0.61           0       117600 |\n",
            "| max_pooling2d_38                  -   (-1, 14, 14, 6)        0         0       0           0            0 |\n",
            "| conv2d_39                         -  (-1, 14, 14, 16)        0      2416    9.44           0       470400 |\n",
            "| max_pooling2d_39                  -    (-1, 7, 7, 16)        0         0       0           0            0 |\n",
            "| flatten_37                        -         (-1, 784)        0         0       0           0            0 |\n",
            "| batch_normalization_48            -         (-1, 784)        0      1568    6.12           0            0 |\n",
            "| flatten_38                        -         (-1, 784)        0         0       0           0            0 |\n",
            "| quant_dense_30                    1         (-1, 120)    94080         0   11.48       94080            0 |\n",
            "| batch_normalization_49            -         (-1, 120)        0       240    0.94           0            0 |\n",
            "| quant_dense_31                    1          (-1, 84)    10080         0    1.23       10080            0 |\n",
            "| batch_normalization_50            -          (-1, 84)        0       168    0.66           0            0 |\n",
            "| quant_dense_32                    1          (-1, 10)      840         0    0.10         840            0 |\n",
            "| batch_normalization_51            -          (-1, 10)        0        20    0.08           0            0 |\n",
            "| activation_18                     -          (-1, 10)        0         0       0           ?            ? |\n",
            "+-----------------------------------------------------------------------------------------------------------+\n",
            "| Total                                                   105000      4568   30.66      105000       588000 |\n",
            "+-----------------------------------------------------------------------------------------------------------+\n",
            "+sequential_19 summary-------------------------+\n",
            "| Total params                      110 k      |\n",
            "| Trainable params                  108 k      |\n",
            "| Non-trainable params              2 k        |\n",
            "| Model size                        30.66 KiB  |\n",
            "| Model size (8-bit FP weights)     17.28 KiB  |\n",
            "| Float-32 Equivalent               428.00 KiB |\n",
            "| Compression Ratio of Memory       0.07       |\n",
            "| Number of MACs                    693 k      |\n",
            "| Ratio of MACs that are binarized  0.1515     |\n",
            "+----------------------------------------------+\n",
            "Epoch 1/10\n",
            "938/938 [==============================] - 45s 47ms/step - loss: 0.9668 - accuracy: 0.7500\n",
            "Epoch 2/10\n",
            "938/938 [==============================] - 44s 47ms/step - loss: 0.6642 - accuracy: 0.8636\n",
            "Epoch 3/10\n",
            "938/938 [==============================] - 43s 46ms/step - loss: 0.6200 - accuracy: 0.8807\n",
            "Epoch 4/10\n",
            "938/938 [==============================] - 44s 47ms/step - loss: 0.6052 - accuracy: 0.8864\n",
            "Epoch 5/10\n",
            "938/938 [==============================] - 44s 47ms/step - loss: 0.5876 - accuracy: 0.8930\n",
            "Epoch 6/10\n",
            "938/938 [==============================] - 44s 47ms/step - loss: 0.5792 - accuracy: 0.8969\n",
            "Epoch 7/10\n",
            "938/938 [==============================] - 44s 47ms/step - loss: 0.5746 - accuracy: 0.8974\n",
            "Epoch 8/10\n",
            "938/938 [==============================] - 44s 47ms/step - loss: 0.5676 - accuracy: 0.9010\n",
            "Epoch 9/10\n",
            "938/938 [==============================] - 44s 47ms/step - loss: 0.5537 - accuracy: 0.9080\n",
            "Epoch 10/10\n",
            "938/938 [==============================] - 44s 47ms/step - loss: 0.5599 - accuracy: 0.9052\n",
            "313/313 [==============================] - 4s 11ms/step - loss: 0.5750 - accuracy: 0.8927\n"
          ],
          "name": "stdout"
        }
      ]
    },
    {
      "cell_type": "markdown",
      "metadata": {
        "id": "NjtCSnRGHCph"
      },
      "source": [
        "2. Layer size: 200\n",
        "\n",
        "   batch size: 64"
      ]
    },
    {
      "cell_type": "code",
      "metadata": {
        "colab": {
          "background_save": true,
          "base_uri": "https://localhost:8080/"
        },
        "id": "dpv9mm4YHHu_",
        "outputId": "e6fbb1cc-e0dc-41f6-8365-9a305f7d1a52"
      },
      "source": [
        "model20 = tf.keras.Sequential([\n",
        "    tf.keras.layers.Conv2D(6, (5,5), padding='same', activation=tf.nn.relu,\n",
        "                           input_shape=(28, 28, 1)),\n",
        "    tf.keras.layers.MaxPooling2D((2, 2), strides=2),\n",
        "    tf.keras.layers.Conv2D(16, (5,5), padding='same', activation=tf.nn.relu),\n",
        "    tf.keras.layers.MaxPooling2D((2, 2), strides=2),\n",
        "    tf.keras.layers.Flatten(),\n",
        "    #tf.keras.layers.Dense(120, activation=tf.nn.relu),\n",
        "    #tf.keras.layers.Dense(84, activation=tf.nn.relu),\n",
        "    #tf.keras.layers.Dense(10, activation=tf.nn.softmax),\n",
        "    tf.keras.layers.BatchNormalization(momentum=0.999, scale=False),\n",
        "    tf.keras.layers.Flatten(),\n",
        "    lq.layers.QuantDense(200, use_bias=False, **kwargs),\n",
        "    tf.keras.layers.BatchNormalization(momentum=0.999, scale=False),\n",
        "    lq.layers.QuantDense(84, use_bias=False, **kwargs),\n",
        "    tf.keras.layers.BatchNormalization(momentum=0.999, scale=False),\n",
        "    lq.layers.QuantDense(10, use_bias=False, **kwargs),\n",
        "    tf.keras.layers.BatchNormalization(momentum=0.999, scale=False),\n",
        "    tf.keras.layers.Activation(\"softmax\")\n",
        "])\n",
        "\n",
        "lq.models.summary(model20)\n",
        "\n",
        "model20.compile(optimizer='adam',\n",
        "              loss='sparse_categorical_crossentropy',\n",
        "              metrics=['accuracy'])\n",
        "trained_model20 = model20.fit(train_images, train_labels, batch_size=64, epochs=10)\n",
        "\n",
        "test_loss20, test_acc20 = model20.evaluate(test_images, test_labels)"
      ],
      "execution_count": null,
      "outputs": [
        {
          "output_type": "stream",
          "text": [
            "+sequential_20 stats----------------------------------------------------------------------------------------+\n",
            "| Layer                   Input prec.           Outputs  # 1-bit  # 32-bit  Memory  1-bit MACs  32-bit MACs |\n",
            "|                               (bit)                        x 1       x 1    (kB)                          |\n",
            "+-----------------------------------------------------------------------------------------------------------+\n",
            "| conv2d_40                         -   (-1, 28, 28, 6)        0       156    0.61           0       117600 |\n",
            "| max_pooling2d_40                  -   (-1, 14, 14, 6)        0         0       0           0            0 |\n",
            "| conv2d_41                         -  (-1, 14, 14, 16)        0      2416    9.44           0       470400 |\n",
            "| max_pooling2d_41                  -    (-1, 7, 7, 16)        0         0       0           0            0 |\n",
            "| flatten_39                        -         (-1, 784)        0         0       0           0            0 |\n",
            "| batch_normalization_52            -         (-1, 784)        0      1568    6.12           0            0 |\n",
            "| flatten_40                        -         (-1, 784)        0         0       0           0            0 |\n",
            "| quant_dense_33                    1         (-1, 200)   156800         0   19.14      156800            0 |\n",
            "| batch_normalization_53            -         (-1, 200)        0       400    1.56           0            0 |\n",
            "| quant_dense_34                    1          (-1, 84)    16800         0    2.05       16800            0 |\n",
            "| batch_normalization_54            -          (-1, 84)        0       168    0.66           0            0 |\n",
            "| quant_dense_35                    1          (-1, 10)      840         0    0.10         840            0 |\n",
            "| batch_normalization_55            -          (-1, 10)        0        20    0.08           0            0 |\n",
            "| activation_19                     -          (-1, 10)        0         0       0           ?            ? |\n",
            "+-----------------------------------------------------------------------------------------------------------+\n",
            "| Total                                                   174440      4728   39.76      174440       588000 |\n",
            "+-----------------------------------------------------------------------------------------------------------+\n",
            "+sequential_20 summary-------------------------+\n",
            "| Total params                      179 k      |\n",
            "| Trainable params                  177 k      |\n",
            "| Non-trainable params              2.16 k     |\n",
            "| Model size                        39.76 KiB  |\n",
            "| Model size (8-bit FP weights)     25.91 KiB  |\n",
            "| Float-32 Equivalent               699.88 KiB |\n",
            "| Compression Ratio of Memory       0.06       |\n",
            "| Number of MACs                    762 k      |\n",
            "| Ratio of MACs that are binarized  0.2288     |\n",
            "+----------------------------------------------+\n",
            "Epoch 1/10\n",
            "938/938 [==============================] - 47s 49ms/step - loss: 0.9215 - accuracy: 0.7679\n",
            "Epoch 2/10\n",
            "938/938 [==============================] - 47s 50ms/step - loss: 0.6525 - accuracy: 0.8669\n",
            "Epoch 3/10\n",
            "938/938 [==============================] - 47s 50ms/step - loss: 0.6151 - accuracy: 0.8806\n",
            "Epoch 4/10\n",
            "938/938 [==============================] - 47s 50ms/step - loss: 0.5945 - accuracy: 0.8912\n",
            "Epoch 5/10\n",
            "938/938 [==============================] - 46s 49ms/step - loss: 0.5836 - accuracy: 0.8945\n",
            "Epoch 6/10\n",
            "938/938 [==============================] - 46s 49ms/step - loss: 0.5749 - accuracy: 0.8971\n",
            "Epoch 7/10\n",
            "938/938 [==============================] - 47s 50ms/step - loss: 0.5720 - accuracy: 0.8998\n",
            "Epoch 8/10\n",
            "938/938 [==============================] - 46s 49ms/step - loss: 0.5575 - accuracy: 0.9056\n",
            "Epoch 9/10\n",
            "938/938 [==============================] - 46s 49ms/step - loss: 0.5522 - accuracy: 0.9084\n",
            "Epoch 10/10\n",
            "938/938 [==============================] - 46s 49ms/step - loss: 0.5512 - accuracy: 0.9085\n",
            "313/313 [==============================] - 4s 14ms/step - loss: 0.5757 - accuracy: 0.8926\n"
          ],
          "name": "stdout"
        }
      ]
    },
    {
      "cell_type": "code",
      "metadata": {
        "id": "QXu3QZWbJ3a9",
        "colab": {
          "base_uri": "https://localhost:8080/"
        },
        "outputId": "b8fece8f-6476-4edd-fb1d-af93d8bfc2c8"
      },
      "source": [
        "model21 = tf.keras.Sequential([\n",
        "    tf.keras.layers.Conv2D(6, (5,5), padding='same', activation=tf.nn.relu,\n",
        "                           input_shape=(28, 28, 1)),\n",
        "    tf.keras.layers.MaxPooling2D((2, 2), strides=2),\n",
        "    tf.keras.layers.Conv2D(16, (5,5), padding='same', activation=tf.nn.relu),\n",
        "    tf.keras.layers.MaxPooling2D((2, 2), strides=2),\n",
        "    tf.keras.layers.Flatten(),\n",
        "    #tf.keras.layers.Dense(120, activation=tf.nn.relu),\n",
        "    #tf.keras.layers.Dense(84, activation=tf.nn.relu),\n",
        "    #tf.keras.layers.Dense(10, activation=tf.nn.softmax),\n",
        "    tf.keras.layers.BatchNormalization(momentum=0.999, scale=False),\n",
        "    tf.keras.layers.Flatten(),\n",
        "    lq.layers.QuantDense(400, use_bias=False, **kwargs),\n",
        "    tf.keras.layers.BatchNormalization(momentum=0.999, scale=False),\n",
        "    lq.layers.QuantDense(84, use_bias=False, **kwargs),\n",
        "    tf.keras.layers.BatchNormalization(momentum=0.999, scale=False),\n",
        "    lq.layers.QuantDense(10, use_bias=False, **kwargs),\n",
        "    tf.keras.layers.BatchNormalization(momentum=0.999, scale=False),\n",
        "    tf.keras.layers.Activation(\"softmax\")\n",
        "])\n",
        "\n",
        "lq.models.summary(model21)\n",
        "\n",
        "model21.compile(optimizer='adam',\n",
        "              loss='sparse_categorical_crossentropy',\n",
        "              metrics=['accuracy'])\n",
        "trained_model21 = model21.fit(train_images, train_labels, batch_size=64, epochs=10)\n",
        "\n",
        "test_loss21, test_acc21 = model21.evaluate(test_images, test_labels)"
      ],
      "execution_count": null,
      "outputs": [
        {
          "output_type": "stream",
          "text": [
            "+sequential_22 stats----------------------------------------------------------------------------------------+\n",
            "| Layer                   Input prec.           Outputs  # 1-bit  # 32-bit  Memory  1-bit MACs  32-bit MACs |\n",
            "|                               (bit)                        x 1       x 1    (kB)                          |\n",
            "+-----------------------------------------------------------------------------------------------------------+\n",
            "| conv2d_44                         -   (-1, 28, 28, 6)        0       156    0.61           0       117600 |\n",
            "| max_pooling2d_44                  -   (-1, 14, 14, 6)        0         0       0           0            0 |\n",
            "| conv2d_45                         -  (-1, 14, 14, 16)        0      2416    9.44           0       470400 |\n",
            "| max_pooling2d_45                  -    (-1, 7, 7, 16)        0         0       0           0            0 |\n",
            "| flatten_43                        -         (-1, 784)        0         0       0           0            0 |\n",
            "| batch_normalization_60            -         (-1, 784)        0      1568    6.12           0            0 |\n",
            "| flatten_44                        -         (-1, 784)        0         0       0           0            0 |\n",
            "| quant_dense_39                    1         (-1, 400)   313600         0   38.28      313600            0 |\n",
            "| batch_normalization_61            -         (-1, 400)        0       800    3.12           0            0 |\n",
            "| quant_dense_40                    1          (-1, 84)    33600         0    4.10       33600            0 |\n",
            "| batch_normalization_62            -          (-1, 84)        0       168    0.66           0            0 |\n",
            "| quant_dense_41                    1          (-1, 10)      840         0    0.10         840            0 |\n",
            "| batch_normalization_63            -          (-1, 10)        0        20    0.08           0            0 |\n",
            "| activation_21                     -          (-1, 10)        0         0       0           ?            ? |\n",
            "+-----------------------------------------------------------------------------------------------------------+\n",
            "| Total                                                   348040      5128   62.52      348040       588000 |\n",
            "+-----------------------------------------------------------------------------------------------------------+\n",
            "+sequential_22 summary------------------------+\n",
            "| Total params                      353 k     |\n",
            "| Trainable params                  351 k     |\n",
            "| Non-trainable params              2.56 k    |\n",
            "| Model size                        62.52 KiB |\n",
            "| Model size (8-bit FP weights)     47.49 KiB |\n",
            "| Float-32 Equivalent               1.35 MiB  |\n",
            "| Compression Ratio of Memory       0.05      |\n",
            "| Number of MACs                    936 k     |\n",
            "| Ratio of MACs that are binarized  0.3718    |\n",
            "+---------------------------------------------+\n",
            "Epoch 1/10\n",
            "938/938 [==============================] - 49s 51ms/step - loss: 0.8864 - accuracy: 0.7807\n",
            "Epoch 2/10\n",
            "938/938 [==============================] - 49s 53ms/step - loss: 0.6438 - accuracy: 0.8720\n",
            "Epoch 3/10\n",
            "938/938 [==============================] - 49s 52ms/step - loss: 0.6093 - accuracy: 0.8829\n",
            "Epoch 4/10\n",
            "938/938 [==============================] - 49s 52ms/step - loss: 0.5857 - accuracy: 0.8932\n",
            "Epoch 5/10\n",
            "938/938 [==============================] - 49s 52ms/step - loss: 0.5676 - accuracy: 0.9013\n",
            "Epoch 6/10\n",
            "938/938 [==============================] - 49s 53ms/step - loss: 0.5615 - accuracy: 0.9053\n",
            "Epoch 7/10\n",
            "938/938 [==============================] - 50s 53ms/step - loss: 0.5531 - accuracy: 0.9062\n",
            "Epoch 8/10\n",
            "938/938 [==============================] - 50s 53ms/step - loss: 0.5465 - accuracy: 0.9080\n",
            "Epoch 9/10\n",
            "938/938 [==============================] - 50s 53ms/step - loss: 0.5395 - accuracy: 0.9122\n",
            "Epoch 10/10\n",
            "938/938 [==============================] - 49s 53ms/step - loss: 0.5321 - accuracy: 0.9164\n",
            "313/313 [==============================] - 4s 12ms/step - loss: 0.5479 - accuracy: 0.8944\n"
          ],
          "name": "stdout"
        }
      ]
    },
    {
      "cell_type": "code",
      "metadata": {
        "id": "QBucaKEUwxSr",
        "colab": {
          "base_uri": "https://localhost:8080/",
          "height": 325
        },
        "outputId": "fb60586f-4349-450c-e5bf-e1ba50006fff"
      },
      "source": [
        "plt.title('LeNet with three binarization layers \\n(Dense = (120, 84, 10), Batch = 64, Epochs = 10, \\nunless otherwise stated)')\n",
        "plt.plot(trained_model19.history['accuracy'])\n",
        "plt.plot(trained_model20.history['accuracy'])\n",
        "plt.plot(trained_model21.history['accuracy'])\n",
        "plt.ylabel('Accuracy')\n",
        "plt.xlabel('Epoch')\n",
        "plt.legend(['3BinLayers(Dense(120,84,10))', \n",
        "            '3BinLayers(Dense(200,84,10))', \n",
        "            '3BinLayers(Dense(400,84,10))', \n",
        "            ], loc='lower right')\n",
        "plt.show()"
      ],
      "execution_count": null,
      "outputs": [
        {
          "output_type": "display_data",
          "data": {
            "image/png": "[encoded data removed]",
            "text/plain": [
              "<Figure size 432x288 with 1 Axes>"
            ]
          },
          "metadata": {
            "tags": [],
            "needs_background": "light"
          }
        }
      ]
    },
    {
      "cell_type": "code",
      "metadata": {
        "id": "uTkFfkLHASrN",
        "colab": {
          "base_uri": "https://localhost:8080/",
          "height": 295
        },
        "outputId": "7effc0ca-a006-416b-8ed7-e2b20bd8a448"
      },
      "source": [
        "# best scores\n",
        "plt.plot(trained_Lmodel.history['accuracy'])\n",
        "plt.plot(trained_model4.history['accuracy'])\n",
        "plt.plot(trained_model7.history['accuracy'])\n",
        "plt.plot(trained_model11.history['accuracy'])\n",
        "plt.plot(trained_model16.history['accuracy'])\n",
        "plt.plot(trained_model21.history['accuracy'])\n",
        "plt.title('Best scores from each comparison')\n",
        "plt.ylabel('Accuracy')\n",
        "plt.xlabel('Epoch')\n",
        "plt.legend([\n",
        "            'LeNet', \n",
        "            'LeNet1BinLayer(Dense=80,Batch=64)', \n",
        "            'LeNet2BinLayers(Dense(84,10),Batch=64)', \n",
        "            'LeNet2BinLayers(Dense(40,10),Batch=64)', \n",
        "            'LeNet2BinLayers(Dense(100,40),Batch=64)', \n",
        "            'LeNet3BinLayers(Dense(400,84,10),Batch=64)', \n",
        "            ], loc='lower right')\n",
        "plt.show()"
      ],
      "execution_count": null,
      "outputs": [
        {
          "output_type": "display_data",
          "data": {
            "image/png": "[encoded data removed]",
            "text/plain": [
              "<Figure size 432x288 with 1 Axes>"
            ]
          },
          "metadata": {
            "tags": [],
            "needs_background": "light"
          }
        }
      ]
    }
  ]
}